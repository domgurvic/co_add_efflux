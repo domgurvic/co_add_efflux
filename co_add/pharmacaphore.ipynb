{
 "cells": [
  {
   "cell_type": "code",
   "execution_count": 1,
   "id": "00535abb-3c91-424e-a15b-f7f37778a438",
   "metadata": {},
   "outputs": [
    {
     "name": "stderr",
     "output_type": "stream",
     "text": [
      "RDKit WARNING: [13:12:21] Enabling RDKit 2019.09.2 jupyter extensions\n"
     ]
    }
   ],
   "source": [
    "# load conda environment\n",
    "import sys\n",
    "sys.path.append(\"/homes/dgurvic/software/miniconda3/envs/jupt_test/lib/python3.7/site-packages/\")\n",
    "\n",
    "from ml_mmpa import master_functions\n",
    "\n",
    "# data process\n",
    "import pandas as pd\n",
    "import numpy as np\n",
    "\n",
    "import matplotlib.pyplot as plt\n",
    "from matplotlib_venn import venn3, venn3_circles, venn2\n",
    "\n",
    "\n",
    "from scipy import stats\n",
    "\n",
    "import seaborn as sns\n",
    "\n",
    "# text process for assays \n",
    "import re\n",
    "\n",
    "import pickle\n",
    "\n",
    "from sklearn.decomposition import PCA\n",
    "from sklearn.preprocessing import StandardScaler\n",
    "from sklearn.metrics import silhouette_samples, silhouette_score\n",
    "from sklearn.cluster import KMeans\n",
    "from sklearn import datasets, decomposition\n",
    "from sklearn.manifold import TSNE\n",
    "\n",
    "#chem\n",
    "\n",
    "from rdkit import Chem, DataStructs\n",
    "from rdkit.Chem import AllChem, MACCSkeys, Descriptors, Descriptors3D, Draw, rdMolDescriptors, Draw, PandasTools\n",
    "from rdkit.DataManip.Metric.rdMetricMatrixCalc import GetTanimotoSimMat, GetTanimotoDistMat\n",
    "from rdkit.Chem.Draw import IPythonConsole"
   ]
  },
  {
   "cell_type": "code",
   "execution_count": 2,
   "id": "9755845b-014c-4284-a878-08809685b943",
   "metadata": {},
   "outputs": [
    {
     "data": {
      "text/plain": [
       "'BG HA |0 4|4 0|'"
      ]
     },
     "execution_count": 2,
     "metadata": {},
     "output_type": "execute_result"
    }
   ],
   "source": [
    "m = Chem.MolFromSmiles('OCCCCCN')\n",
    "\n",
    "AllChem.EmbedMolecule(m)\n",
    "\n",
    "dm = Chem.Get3DDistanceMatrix(m)\n",
    "\n",
    "from rdkit.Chem.Pharm2D import Gobbi_Pharm2D,Generate\n",
    "\n",
    "factory = Gobbi_Pharm2D.factory\n",
    "\n",
    "sig1 = Generate.Gen2DFingerprint(m,factory)\n",
    "\n",
    "sig2 = Generate.Gen2DFingerprint(m,factory,dMat=dm)\n",
    "\n",
    "sig1==sig2"
   ]
  },
  {
   "cell_type": "code",
   "execution_count": 9,
   "id": "0c5e4991-c5c4-4013-bbf1-5e8f1d14cf1f",
   "metadata": {},
   "outputs": [
    {
     "data": {
      "text/plain": [
       "0.37777777777777777"
      ]
     },
     "execution_count": 9,
     "metadata": {},
     "output_type": "execute_result"
    }
   ],
   "source": [
    "DataStructs.TanimotoSimilarity(sig1, sig2)"
   ]
  },
  {
   "cell_type": "code",
   "execution_count": 14,
   "id": "a7cf036d-363a-4fc5-a399-7dbd95925ebb",
   "metadata": {},
   "outputs": [
    {
     "data": {
      "text/plain": [
       "39972"
      ]
     },
     "execution_count": 14,
     "metadata": {},
     "output_type": "execute_result"
    }
   ],
   "source": [
    "sig1.GetNumBits()"
   ]
  }
 ],
 "metadata": {
  "kernelspec": {
   "display_name": "Python [conda env:miniconda3-jupt_test]",
   "language": "python",
   "name": "conda-env-miniconda3-jupt_test-py"
  },
  "language_info": {
   "codemirror_mode": {
    "name": "ipython",
    "version": 3
   },
   "file_extension": ".py",
   "mimetype": "text/x-python",
   "name": "python",
   "nbconvert_exporter": "python",
   "pygments_lexer": "ipython3",
   "version": "3.7.7"
  }
 },
 "nbformat": 4,
 "nbformat_minor": 5
}
