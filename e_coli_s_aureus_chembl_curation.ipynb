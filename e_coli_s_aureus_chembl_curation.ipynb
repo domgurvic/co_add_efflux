{
 "cells": [
  {
   "cell_type": "markdown",
   "metadata": {},
   "source": [
    "#### Chembl Target ID for E. coli: CHEMBL354 (no. mols: 65k)\n",
    "#### Chembl Target ID for S. aureus: CHEMBL352 (no. mols: 113k)"
   ]
  },
  {
   "cell_type": "markdown",
   "metadata": {},
   "source": [
    "Criteria for valid dataset: \n",
    "\n",
    "    Preffered measurement unit: ug.mL-1 and nM\t(easy to convert to pMIC)\n",
    "    Preferred *NO* Molecule Name (Looking for unknown molecules)\n",
    "    \n",
    "    "
   ]
  },
  {
   "cell_type": "code",
   "execution_count": 2,
   "metadata": {},
   "outputs": [
    {
     "name": "stderr",
     "output_type": "stream",
     "text": [
      "RDKit WARNING: [11:50:17] Enabling RDKit 2019.09.2 jupyter extensions\n"
     ]
    }
   ],
   "source": [
    "import sys\n",
    "sys.path.append(\"/homes/dgurvic/software/miniconda3/envs/jupt_test/lib/python3.7/site-packages/\")\n",
    "import pandas as pd\n",
    "from descriptastorus.descriptors.DescriptorGenerator import MakeGenerator\n",
    "import numpy as np\n",
    "from rdkit import Chem\n",
    "import re\n",
    "from rdkit.Chem import Descriptors\n",
    "import matplotlib.pyplot as plt\n",
    "import scipy\n",
    "import seaborn as sns\n",
    "import statsmodels.api as sm\n",
    "import pickle"
   ]
  },
  {
   "cell_type": "code",
   "execution_count": 3,
   "metadata": {},
   "outputs": [],
   "source": [
    "e_coli_master=pd.read_csv('data/master_e_coli.csv', low_memory=False, dtype=np.unicode_,  sep=';')\n",
    "s_aureus_master=pd.read_csv('data/master_s_aureus.csv', dtype=np.unicode_ , sep=';')"
   ]
  },
  {
   "cell_type": "code",
   "execution_count": 4,
   "metadata": {},
   "outputs": [
    {
     "data": {
      "text/html": [
       "<div>\n",
       "<style scoped>\n",
       "    .dataframe tbody tr th:only-of-type {\n",
       "        vertical-align: middle;\n",
       "    }\n",
       "\n",
       "    .dataframe tbody tr th {\n",
       "        vertical-align: top;\n",
       "    }\n",
       "\n",
       "    .dataframe thead th {\n",
       "        text-align: right;\n",
       "    }\n",
       "</style>\n",
       "<table border=\"1\" class=\"dataframe\">\n",
       "  <thead>\n",
       "    <tr style=\"text-align: right;\">\n",
       "      <th></th>\n",
       "      <th>Molecule ChEMBL ID</th>\n",
       "      <th>Molecule Name</th>\n",
       "      <th>Molecule Max Phase</th>\n",
       "      <th>Molecular Weight</th>\n",
       "      <th>#RO5 Violations</th>\n",
       "      <th>AlogP</th>\n",
       "      <th>Compound Key</th>\n",
       "      <th>Smiles</th>\n",
       "      <th>Standard Type</th>\n",
       "      <th>Standard Relation</th>\n",
       "      <th>...</th>\n",
       "      <th>Target Name</th>\n",
       "      <th>Target Organism</th>\n",
       "      <th>Target Type</th>\n",
       "      <th>Document ChEMBL ID</th>\n",
       "      <th>Source ID</th>\n",
       "      <th>Source Description</th>\n",
       "      <th>Document Journal</th>\n",
       "      <th>Document Year</th>\n",
       "      <th>Cell ChEMBL ID</th>\n",
       "      <th>Properties</th>\n",
       "    </tr>\n",
       "  </thead>\n",
       "  <tbody>\n",
       "    <tr>\n",
       "      <th>count</th>\n",
       "      <td>65103</td>\n",
       "      <td>17404</td>\n",
       "      <td>65103</td>\n",
       "      <td>65103</td>\n",
       "      <td>65103</td>\n",
       "      <td>65103</td>\n",
       "      <td>65083</td>\n",
       "      <td>64994</td>\n",
       "      <td>65103</td>\n",
       "      <td>63220</td>\n",
       "      <td>...</td>\n",
       "      <td>65103</td>\n",
       "      <td>65103</td>\n",
       "      <td>65103</td>\n",
       "      <td>65103</td>\n",
       "      <td>65103</td>\n",
       "      <td>65103</td>\n",
       "      <td>64145</td>\n",
       "      <td>64145</td>\n",
       "      <td>65103</td>\n",
       "      <td>0</td>\n",
       "    </tr>\n",
       "    <tr>\n",
       "      <th>unique</th>\n",
       "      <td>35134</td>\n",
       "      <td>1550</td>\n",
       "      <td>5</td>\n",
       "      <td>16603</td>\n",
       "      <td>6</td>\n",
       "      <td>1649</td>\n",
       "      <td>8036</td>\n",
       "      <td>35029</td>\n",
       "      <td>1</td>\n",
       "      <td>5</td>\n",
       "      <td>...</td>\n",
       "      <td>1</td>\n",
       "      <td>1</td>\n",
       "      <td>1</td>\n",
       "      <td>2923</td>\n",
       "      <td>3</td>\n",
       "      <td>3</td>\n",
       "      <td>22</td>\n",
       "      <td>45</td>\n",
       "      <td>1</td>\n",
       "      <td>0</td>\n",
       "    </tr>\n",
       "    <tr>\n",
       "      <th>top</th>\n",
       "      <td>CHEMBL8</td>\n",
       "      <td>CIPROFLOXACIN</td>\n",
       "      <td>0</td>\n",
       "      <td>331.35</td>\n",
       "      <td>0</td>\n",
       "      <td>None</td>\n",
       "      <td>1</td>\n",
       "      <td>O=C(O)c1cn(C2CC2)c2cc(N3CCNCC3)c(F)cc2c1=O</td>\n",
       "      <td>MIC</td>\n",
       "      <td>'='</td>\n",
       "      <td>...</td>\n",
       "      <td>Escherichia coli</td>\n",
       "      <td>Escherichia coli</td>\n",
       "      <td>ORGANISM</td>\n",
       "      <td>CHEMBL4184210</td>\n",
       "      <td>1</td>\n",
       "      <td>Scientific Literature</td>\n",
       "      <td>J. Med. Chem.</td>\n",
       "      <td>2010</td>\n",
       "      <td>None</td>\n",
       "      <td>NaN</td>\n",
       "    </tr>\n",
       "    <tr>\n",
       "      <th>freq</th>\n",
       "      <td>1296</td>\n",
       "      <td>1296</td>\n",
       "      <td>50247</td>\n",
       "      <td>1327</td>\n",
       "      <td>36182</td>\n",
       "      <td>4455</td>\n",
       "      <td>884</td>\n",
       "      <td>1296</td>\n",
       "      <td>65103</td>\n",
       "      <td>45480</td>\n",
       "      <td>...</td>\n",
       "      <td>65103</td>\n",
       "      <td>65103</td>\n",
       "      <td>65103</td>\n",
       "      <td>855</td>\n",
       "      <td>64145</td>\n",
       "      <td>64145</td>\n",
       "      <td>11590</td>\n",
       "      <td>6152</td>\n",
       "      <td>65103</td>\n",
       "      <td>NaN</td>\n",
       "    </tr>\n",
       "  </tbody>\n",
       "</table>\n",
       "<p>4 rows × 45 columns</p>\n",
       "</div>"
      ],
      "text/plain": [
       "       Molecule ChEMBL ID  Molecule Name Molecule Max Phase Molecular Weight  \\\n",
       "count               65103          17404              65103            65103   \n",
       "unique              35134           1550                  5            16603   \n",
       "top               CHEMBL8  CIPROFLOXACIN                  0           331.35   \n",
       "freq                 1296           1296              50247             1327   \n",
       "\n",
       "       #RO5 Violations  AlogP Compound Key  \\\n",
       "count            65103  65103        65083   \n",
       "unique               6   1649         8036   \n",
       "top                  0   None            1   \n",
       "freq             36182   4455          884   \n",
       "\n",
       "                                            Smiles Standard Type  \\\n",
       "count                                        64994         65103   \n",
       "unique                                       35029             1   \n",
       "top     O=C(O)c1cn(C2CC2)c2cc(N3CCNCC3)c(F)cc2c1=O           MIC   \n",
       "freq                                          1296         65103   \n",
       "\n",
       "       Standard Relation  ...       Target Name   Target Organism Target Type  \\\n",
       "count              63220  ...             65103             65103       65103   \n",
       "unique                 5  ...                 1                 1           1   \n",
       "top                  '='  ...  Escherichia coli  Escherichia coli    ORGANISM   \n",
       "freq               45480  ...             65103             65103       65103   \n",
       "\n",
       "       Document ChEMBL ID Source ID     Source Description Document Journal  \\\n",
       "count               65103     65103                  65103            64145   \n",
       "unique               2923         3                      3               22   \n",
       "top         CHEMBL4184210         1  Scientific Literature    J. Med. Chem.   \n",
       "freq                  855     64145                  64145            11590   \n",
       "\n",
       "       Document Year Cell ChEMBL ID Properties  \n",
       "count          64145          65103          0  \n",
       "unique            45              1          0  \n",
       "top             2010           None        NaN  \n",
       "freq            6152          65103        NaN  \n",
       "\n",
       "[4 rows x 45 columns]"
      ]
     },
     "execution_count": 4,
     "metadata": {},
     "output_type": "execute_result"
    }
   ],
   "source": [
    "e_coli_master.describe()"
   ]
  },
  {
   "cell_type": "code",
   "execution_count": 25,
   "metadata": {},
   "outputs": [
    {
     "data": {
      "text/html": [
       "<div>\n",
       "<style scoped>\n",
       "    .dataframe tbody tr th:only-of-type {\n",
       "        vertical-align: middle;\n",
       "    }\n",
       "\n",
       "    .dataframe tbody tr th {\n",
       "        vertical-align: top;\n",
       "    }\n",
       "\n",
       "    .dataframe thead th {\n",
       "        text-align: right;\n",
       "    }\n",
       "</style>\n",
       "<table border=\"1\" class=\"dataframe\">\n",
       "  <thead>\n",
       "    <tr style=\"text-align: right;\">\n",
       "      <th></th>\n",
       "      <th>Molecule ChEMBL ID</th>\n",
       "      <th>Molecule Name</th>\n",
       "      <th>Molecule Max Phase</th>\n",
       "      <th>Molecular Weight</th>\n",
       "      <th>#RO5 Violations</th>\n",
       "      <th>AlogP</th>\n",
       "      <th>Compound Key</th>\n",
       "      <th>Smiles</th>\n",
       "      <th>Standard Type</th>\n",
       "      <th>Standard Relation</th>\n",
       "      <th>...</th>\n",
       "      <th>Target Name</th>\n",
       "      <th>Target Organism</th>\n",
       "      <th>Target Type</th>\n",
       "      <th>Document ChEMBL ID</th>\n",
       "      <th>Source ID</th>\n",
       "      <th>Source Description</th>\n",
       "      <th>Document Journal</th>\n",
       "      <th>Document Year</th>\n",
       "      <th>Cell ChEMBL ID</th>\n",
       "      <th>Properties</th>\n",
       "    </tr>\n",
       "  </thead>\n",
       "  <tbody>\n",
       "    <tr>\n",
       "      <th>0</th>\n",
       "      <td>CHEMBL3355088</td>\n",
       "      <td>NaN</td>\n",
       "      <td>0</td>\n",
       "      <td>740.09</td>\n",
       "      <td>2</td>\n",
       "      <td>2.63</td>\n",
       "      <td>LP24</td>\n",
       "      <td>CCCCCCCCCCCCCCCCCC(=O)NC(CCCN)C(=O)NC(CCCN)C(=...</td>\n",
       "      <td>MIC</td>\n",
       "      <td>'='</td>\n",
       "      <td>...</td>\n",
       "      <td>Escherichia coli</td>\n",
       "      <td>Escherichia coli</td>\n",
       "      <td>ORGANISM</td>\n",
       "      <td>CHEMBL3352151</td>\n",
       "      <td>1</td>\n",
       "      <td>Scientific Literature</td>\n",
       "      <td>Eur. J. Med. Chem.</td>\n",
       "      <td>2014</td>\n",
       "      <td>None</td>\n",
       "      <td>NaN</td>\n",
       "    </tr>\n",
       "    <tr>\n",
       "      <th>1</th>\n",
       "      <td>CHEMBL529</td>\n",
       "      <td>AZITHROMYCIN</td>\n",
       "      <td>4</td>\n",
       "      <td>749.00</td>\n",
       "      <td>2</td>\n",
       "      <td>1.90</td>\n",
       "      <td>Azithromycin</td>\n",
       "      <td>CC[C@H]1OC(=O)[C@H](C)[C@@H](O[C@H]2C[C@@](C)(...</td>\n",
       "      <td>MIC</td>\n",
       "      <td>'='</td>\n",
       "      <td>...</td>\n",
       "      <td>Escherichia coli</td>\n",
       "      <td>Escherichia coli</td>\n",
       "      <td>ORGANISM</td>\n",
       "      <td>CHEMBL1131863</td>\n",
       "      <td>1</td>\n",
       "      <td>Scientific Literature</td>\n",
       "      <td>Bioorg. Med. Chem. Lett.</td>\n",
       "      <td>1999</td>\n",
       "      <td>None</td>\n",
       "      <td>NaN</td>\n",
       "    </tr>\n",
       "    <tr>\n",
       "      <th>2</th>\n",
       "      <td>CHEMBL3352888</td>\n",
       "      <td>NaN</td>\n",
       "      <td>0</td>\n",
       "      <td>456.54</td>\n",
       "      <td>0</td>\n",
       "      <td>4.93</td>\n",
       "      <td>9</td>\n",
       "      <td>CCc1oc(OC)c(Cc2c(O)c3c(c(C(=O)[C@@H](C)CC)c2O)...</td>\n",
       "      <td>MIC</td>\n",
       "      <td>'&gt;'</td>\n",
       "      <td>...</td>\n",
       "      <td>Escherichia coli</td>\n",
       "      <td>Escherichia coli</td>\n",
       "      <td>ORGANISM</td>\n",
       "      <td>CHEMBL3351231</td>\n",
       "      <td>1</td>\n",
       "      <td>Scientific Literature</td>\n",
       "      <td>J. Nat. Prod.</td>\n",
       "      <td>2015</td>\n",
       "      <td>None</td>\n",
       "      <td>NaN</td>\n",
       "    </tr>\n",
       "    <tr>\n",
       "      <th>3</th>\n",
       "      <td>CHEMBL15461</td>\n",
       "      <td>NaN</td>\n",
       "      <td>0</td>\n",
       "      <td>379.82</td>\n",
       "      <td>0</td>\n",
       "      <td>2.63</td>\n",
       "      <td>1h-2</td>\n",
       "      <td>CC1CN(c2c(F)cc3c(=O)c(C(=O)O)cn(C4CC4)c3c2Cl)CCN1</td>\n",
       "      <td>MIC</td>\n",
       "      <td>'='</td>\n",
       "      <td>...</td>\n",
       "      <td>Escherichia coli</td>\n",
       "      <td>Escherichia coli</td>\n",
       "      <td>ORGANISM</td>\n",
       "      <td>CHEMBL1125826</td>\n",
       "      <td>1</td>\n",
       "      <td>Scientific Literature</td>\n",
       "      <td>J. Med. Chem.</td>\n",
       "      <td>1991</td>\n",
       "      <td>None</td>\n",
       "      <td>NaN</td>\n",
       "    </tr>\n",
       "    <tr>\n",
       "      <th>4</th>\n",
       "      <td>CHEMBL194126</td>\n",
       "      <td>NaN</td>\n",
       "      <td>0</td>\n",
       "      <td>449.55</td>\n",
       "      <td>2</td>\n",
       "      <td>-3.98</td>\n",
       "      <td>Gentamycin</td>\n",
       "      <td>CN[C@@H]1[C@@H](O)[C@@H](O[C@@H]2[C@@H](O)[C@H...</td>\n",
       "      <td>MIC</td>\n",
       "      <td>'='</td>\n",
       "      <td>...</td>\n",
       "      <td>Escherichia coli</td>\n",
       "      <td>Escherichia coli</td>\n",
       "      <td>ORGANISM</td>\n",
       "      <td>CHEMBL4382229</td>\n",
       "      <td>1</td>\n",
       "      <td>Scientific Literature</td>\n",
       "      <td>Eur J Med Chem</td>\n",
       "      <td>2019</td>\n",
       "      <td>None</td>\n",
       "      <td>NaN</td>\n",
       "    </tr>\n",
       "    <tr>\n",
       "      <th>...</th>\n",
       "      <td>...</td>\n",
       "      <td>...</td>\n",
       "      <td>...</td>\n",
       "      <td>...</td>\n",
       "      <td>...</td>\n",
       "      <td>...</td>\n",
       "      <td>...</td>\n",
       "      <td>...</td>\n",
       "      <td>...</td>\n",
       "      <td>...</td>\n",
       "      <td>...</td>\n",
       "      <td>...</td>\n",
       "      <td>...</td>\n",
       "      <td>...</td>\n",
       "      <td>...</td>\n",
       "      <td>...</td>\n",
       "      <td>...</td>\n",
       "      <td>...</td>\n",
       "      <td>...</td>\n",
       "      <td>...</td>\n",
       "      <td>...</td>\n",
       "    </tr>\n",
       "    <tr>\n",
       "      <th>65098</th>\n",
       "      <td>CHEMBL3235078</td>\n",
       "      <td>NaN</td>\n",
       "      <td>0</td>\n",
       "      <td>341.40</td>\n",
       "      <td>0</td>\n",
       "      <td>2.60</td>\n",
       "      <td>23</td>\n",
       "      <td>CCNC(=O)Nc1ccc(-c2nc3cccc(C(N)=O)c3s2)cn1</td>\n",
       "      <td>MIC</td>\n",
       "      <td>'&gt;'</td>\n",
       "      <td>...</td>\n",
       "      <td>Escherichia coli</td>\n",
       "      <td>Escherichia coli</td>\n",
       "      <td>ORGANISM</td>\n",
       "      <td>CHEMBL3232928</td>\n",
       "      <td>1</td>\n",
       "      <td>Scientific Literature</td>\n",
       "      <td>J. Med. Chem.</td>\n",
       "      <td>2013</td>\n",
       "      <td>None</td>\n",
       "      <td>NaN</td>\n",
       "    </tr>\n",
       "    <tr>\n",
       "      <th>65099</th>\n",
       "      <td>CHEMBL3236799</td>\n",
       "      <td>NaN</td>\n",
       "      <td>0</td>\n",
       "      <td>455.69</td>\n",
       "      <td>1</td>\n",
       "      <td>6.85</td>\n",
       "      <td>3j</td>\n",
       "      <td>CCCCCCCCCCC/C(Nc1ccc(N)cc1)=C1\\C(=O)CN(CCCCCC)...</td>\n",
       "      <td>MIC</td>\n",
       "      <td>'&gt;'</td>\n",
       "      <td>...</td>\n",
       "      <td>Escherichia coli</td>\n",
       "      <td>Escherichia coli</td>\n",
       "      <td>ORGANISM</td>\n",
       "      <td>CHEMBL3232809</td>\n",
       "      <td>1</td>\n",
       "      <td>Scientific Literature</td>\n",
       "      <td>Bioorg. Med. Chem. Lett.</td>\n",
       "      <td>2014</td>\n",
       "      <td>None</td>\n",
       "      <td>NaN</td>\n",
       "    </tr>\n",
       "    <tr>\n",
       "      <th>65100</th>\n",
       "      <td>CHEMBL4434790</td>\n",
       "      <td>NaN</td>\n",
       "      <td>0</td>\n",
       "      <td>294.79</td>\n",
       "      <td>0</td>\n",
       "      <td>4.82</td>\n",
       "      <td>MC628</td>\n",
       "      <td>Cc1ccc2nc(Cl)c(/C=N/Cc3ccccc3)cc2c1</td>\n",
       "      <td>MIC</td>\n",
       "      <td>'&gt;'</td>\n",
       "      <td>...</td>\n",
       "      <td>Escherichia coli</td>\n",
       "      <td>Escherichia coli</td>\n",
       "      <td>ORGANISM</td>\n",
       "      <td>CHEMBL4513135</td>\n",
       "      <td>40</td>\n",
       "      <td>CO-ADD antimicrobial screening data</td>\n",
       "      <td>NaN</td>\n",
       "      <td>NaN</td>\n",
       "      <td>None</td>\n",
       "      <td>NaN</td>\n",
       "    </tr>\n",
       "    <tr>\n",
       "      <th>65101</th>\n",
       "      <td>CHEMBL3247349</td>\n",
       "      <td>NaN</td>\n",
       "      <td>0</td>\n",
       "      <td>478.45</td>\n",
       "      <td>1</td>\n",
       "      <td>-2.70</td>\n",
       "      <td>13</td>\n",
       "      <td>Cn1nnnc1NCC1=C(C(=O)[O-])N2C(=O)[C@@H](NC(=O)C...</td>\n",
       "      <td>MIC</td>\n",
       "      <td>'='</td>\n",
       "      <td>...</td>\n",
       "      <td>Escherichia coli</td>\n",
       "      <td>Escherichia coli</td>\n",
       "      <td>ORGANISM</td>\n",
       "      <td>CHEMBL3244150</td>\n",
       "      <td>1</td>\n",
       "      <td>Scientific Literature</td>\n",
       "      <td>J. Med. Chem.</td>\n",
       "      <td>1977</td>\n",
       "      <td>None</td>\n",
       "      <td>NaN</td>\n",
       "    </tr>\n",
       "    <tr>\n",
       "      <th>65102</th>\n",
       "      <td>CHEMBL3248598</td>\n",
       "      <td>NaN</td>\n",
       "      <td>0</td>\n",
       "      <td>383.44</td>\n",
       "      <td>2</td>\n",
       "      <td>-4.82</td>\n",
       "      <td>4, 4'-N-propyl-GlA0</td>\n",
       "      <td>CCCN[C@@H]1[C@@H](CO)O[C@H](O[C@H]([C@@H](O)CN...</td>\n",
       "      <td>MIC</td>\n",
       "      <td>'='</td>\n",
       "      <td>...</td>\n",
       "      <td>Escherichia coli</td>\n",
       "      <td>Escherichia coli</td>\n",
       "      <td>ORGANISM</td>\n",
       "      <td>CHEMBL3244216</td>\n",
       "      <td>1</td>\n",
       "      <td>Scientific Literature</td>\n",
       "      <td>J. Med. Chem.</td>\n",
       "      <td>1978</td>\n",
       "      <td>None</td>\n",
       "      <td>NaN</td>\n",
       "    </tr>\n",
       "  </tbody>\n",
       "</table>\n",
       "<p>65103 rows × 45 columns</p>\n",
       "</div>"
      ],
      "text/plain": [
       "      Molecule ChEMBL ID Molecule Name Molecule Max Phase Molecular Weight  \\\n",
       "0          CHEMBL3355088           NaN                  0           740.09   \n",
       "1              CHEMBL529  AZITHROMYCIN                  4           749.00   \n",
       "2          CHEMBL3352888           NaN                  0           456.54   \n",
       "3            CHEMBL15461           NaN                  0           379.82   \n",
       "4           CHEMBL194126           NaN                  0           449.55   \n",
       "...                  ...           ...                ...              ...   \n",
       "65098      CHEMBL3235078           NaN                  0           341.40   \n",
       "65099      CHEMBL3236799           NaN                  0           455.69   \n",
       "65100      CHEMBL4434790           NaN                  0           294.79   \n",
       "65101      CHEMBL3247349           NaN                  0           478.45   \n",
       "65102      CHEMBL3248598           NaN                  0           383.44   \n",
       "\n",
       "      #RO5 Violations  AlogP         Compound Key  \\\n",
       "0                   2   2.63                 LP24   \n",
       "1                   2   1.90         Azithromycin   \n",
       "2                   0   4.93                    9   \n",
       "3                   0   2.63                 1h-2   \n",
       "4                   2  -3.98           Gentamycin   \n",
       "...               ...    ...                  ...   \n",
       "65098               0   2.60                   23   \n",
       "65099               1   6.85                   3j   \n",
       "65100               0   4.82                MC628   \n",
       "65101               1  -2.70                   13   \n",
       "65102               2  -4.82  4, 4'-N-propyl-GlA0   \n",
       "\n",
       "                                                  Smiles Standard Type  \\\n",
       "0      CCCCCCCCCCCCCCCCCC(=O)NC(CCCN)C(=O)NC(CCCN)C(=...           MIC   \n",
       "1      CC[C@H]1OC(=O)[C@H](C)[C@@H](O[C@H]2C[C@@](C)(...           MIC   \n",
       "2      CCc1oc(OC)c(Cc2c(O)c3c(c(C(=O)[C@@H](C)CC)c2O)...           MIC   \n",
       "3      CC1CN(c2c(F)cc3c(=O)c(C(=O)O)cn(C4CC4)c3c2Cl)CCN1           MIC   \n",
       "4      CN[C@@H]1[C@@H](O)[C@@H](O[C@@H]2[C@@H](O)[C@H...           MIC   \n",
       "...                                                  ...           ...   \n",
       "65098          CCNC(=O)Nc1ccc(-c2nc3cccc(C(N)=O)c3s2)cn1           MIC   \n",
       "65099  CCCCCCCCCCC/C(Nc1ccc(N)cc1)=C1\\C(=O)CN(CCCCCC)...           MIC   \n",
       "65100                Cc1ccc2nc(Cl)c(/C=N/Cc3ccccc3)cc2c1           MIC   \n",
       "65101  Cn1nnnc1NCC1=C(C(=O)[O-])N2C(=O)[C@@H](NC(=O)C...           MIC   \n",
       "65102  CCCN[C@@H]1[C@@H](CO)O[C@H](O[C@H]([C@@H](O)CN...           MIC   \n",
       "\n",
       "      Standard Relation  ...       Target Name   Target Organism Target Type  \\\n",
       "0                   '='  ...  Escherichia coli  Escherichia coli    ORGANISM   \n",
       "1                   '='  ...  Escherichia coli  Escherichia coli    ORGANISM   \n",
       "2                   '>'  ...  Escherichia coli  Escherichia coli    ORGANISM   \n",
       "3                   '='  ...  Escherichia coli  Escherichia coli    ORGANISM   \n",
       "4                   '='  ...  Escherichia coli  Escherichia coli    ORGANISM   \n",
       "...                 ...  ...               ...               ...         ...   \n",
       "65098               '>'  ...  Escherichia coli  Escherichia coli    ORGANISM   \n",
       "65099               '>'  ...  Escherichia coli  Escherichia coli    ORGANISM   \n",
       "65100               '>'  ...  Escherichia coli  Escherichia coli    ORGANISM   \n",
       "65101               '='  ...  Escherichia coli  Escherichia coli    ORGANISM   \n",
       "65102               '='  ...  Escherichia coli  Escherichia coli    ORGANISM   \n",
       "\n",
       "      Document ChEMBL ID Source ID                   Source Description  \\\n",
       "0          CHEMBL3352151         1                Scientific Literature   \n",
       "1          CHEMBL1131863         1                Scientific Literature   \n",
       "2          CHEMBL3351231         1                Scientific Literature   \n",
       "3          CHEMBL1125826         1                Scientific Literature   \n",
       "4          CHEMBL4382229         1                Scientific Literature   \n",
       "...                  ...       ...                                  ...   \n",
       "65098      CHEMBL3232928         1                Scientific Literature   \n",
       "65099      CHEMBL3232809         1                Scientific Literature   \n",
       "65100      CHEMBL4513135        40  CO-ADD antimicrobial screening data   \n",
       "65101      CHEMBL3244150         1                Scientific Literature   \n",
       "65102      CHEMBL3244216         1                Scientific Literature   \n",
       "\n",
       "               Document Journal Document Year Cell ChEMBL ID Properties  \n",
       "0            Eur. J. Med. Chem.          2014           None        NaN  \n",
       "1      Bioorg. Med. Chem. Lett.          1999           None        NaN  \n",
       "2                 J. Nat. Prod.          2015           None        NaN  \n",
       "3                 J. Med. Chem.          1991           None        NaN  \n",
       "4                Eur J Med Chem          2019           None        NaN  \n",
       "...                         ...           ...            ...        ...  \n",
       "65098             J. Med. Chem.          2013           None        NaN  \n",
       "65099  Bioorg. Med. Chem. Lett.          2014           None        NaN  \n",
       "65100                       NaN           NaN           None        NaN  \n",
       "65101             J. Med. Chem.          1977           None        NaN  \n",
       "65102             J. Med. Chem.          1978           None        NaN  \n",
       "\n",
       "[65103 rows x 45 columns]"
      ]
     },
     "execution_count": 25,
     "metadata": {},
     "output_type": "execute_result"
    }
   ],
   "source": [
    "e_coli_master"
   ]
  },
  {
   "cell_type": "code",
   "execution_count": 6,
   "metadata": {
    "scrolled": true
   },
   "outputs": [],
   "source": [
    "counts = e_coli_master['Assay Description'].value_counts().rename_axis('unique_values').reset_index(name='counts')\n",
    "\n",
    "descriptor_values_under_5 = list(counts[counts['counts']<5].unique_values)"
   ]
  },
  {
   "cell_type": "code",
   "execution_count": 8,
   "metadata": {
    "scrolled": true
   },
   "outputs": [
    {
     "data": {
      "text/plain": [
       "3351    Antibacterial activity against Escherichia col...\n",
       "3352    Antibacterial activity against qnrB gene expre...\n",
       "3353    In vitro antibacterial activity against Escher...\n",
       "3354    Antibacterial activity against Escherichia col...\n",
       "3355    Antibacterial activity against Escherichia col...\n",
       "                              ...                        \n",
       "6010    Tested in vitro for antimicrobial activity aga...\n",
       "6011    Antimicrobial activity against qnrS1-positive ...\n",
       "6012    Antibacterial activity against Escherichia col...\n",
       "6013    Antibacterial activity against Escherichia col...\n",
       "6014    Antimicrobial activity against Escherichia col...\n",
       "Name: unique_values, Length: 2664, dtype: object"
      ]
     },
     "execution_count": 8,
     "metadata": {},
     "output_type": "execute_result"
    }
   ],
   "source": [
    "counts[counts['counts']<5].unique_values"
   ]
  },
  {
   "cell_type": "code",
   "execution_count": 10,
   "metadata": {},
   "outputs": [
    {
     "data": {
      "text/plain": [
       "58305"
      ]
     },
     "execution_count": 10,
     "metadata": {},
     "output_type": "execute_result"
    }
   ],
   "source": [
    "counts[counts['counts']>5].counts.sum()"
   ]
  },
  {
   "cell_type": "code",
   "execution_count": 11,
   "metadata": {},
   "outputs": [
    {
     "data": {
      "text/plain": [
       "array(['Antibacterial activity against clinical isolates of Escherichia coli PGI/DML02250 after overnight incubation by microdilution broth assay',\n",
       "       'The compound was tested in vitro for antibacterial activity against Escherichia coli 250 UCS',\n",
       "       'Antimicrobial activity against Escherichia coli ATCC 35218 after 24 hrs by broth microdilution method',\n",
       "       ...,\n",
       "       'Antimicrobial activity against Escherichia coli after 24 hrs by two fold serial dilution method',\n",
       "       'Antibacterial activity against Escherichia coli D21f2tolC by broth microdilution assay',\n",
       "       'Potentiation of colistin-induced antibacterial activity against Escherichia coli YD626 harbouring mcr-1 gene assessed as reduction in colistin MIC at 15 uM incubated for 16 hrs by broth microdilution method (Rvb = 8 ug/ml)'],\n",
       "      dtype=object)"
      ]
     },
     "execution_count": 11,
     "metadata": {},
     "output_type": "execute_result"
    }
   ],
   "source": [
    "e_coli_master['Assay Description'].unique()"
   ]
  },
  {
   "cell_type": "code",
   "execution_count": null,
   "metadata": {},
   "outputs": [],
   "source": [
    "# Stuff to grab: 'Molecule ChEMBL ID', 'Molecule Name', 'Molecular Weight',  'Smiles', 'Standard Units',  'Standard Value', "
   ]
  },
  {
   "cell_type": "code",
   "execution_count": 12,
   "metadata": {
    "collapsed": true,
    "jupyter": {
     "outputs_hidden": true
    },
    "tags": []
   },
   "outputs": [
    {
     "name": "stdout",
     "output_type": "stream",
     "text": [
      "Molecule ChEMBL ID\n",
      "NaN: 0\n",
      "CHEMBL8          1296\n",
      "CHEMBL44354       845\n",
      "CHEMBL148         714\n",
      "CHEMBL1730        701\n",
      "CHEMBL702         613\n",
      "                 ... \n",
      "CHEMBL111549        1\n",
      "CHEMBL270009        1\n",
      "CHEMBL4101441       1\n",
      "CHEMBL385122        1\n",
      "CHEMBL1254435       1\n",
      "Name: Molecule ChEMBL ID, Length: 35134, dtype: int64\n",
      "Molecule Name\n",
      "NaN: 47699\n",
      "CIPROFLOXACIN              1296\n",
      "CEFTAZIDIME                 845\n",
      "IMIPENEM                    731\n",
      "CEFOTAXIME                  701\n",
      "PIPERACILLIN                613\n",
      "                           ... \n",
      "CHLORHEXIDINE DIACETATE       1\n",
      "ACHYROFURAN                   1\n",
      "MAGNOVATIN A                  1\n",
      "DERRICIN                      1\n",
      "VALERYLPYRROTHINE             1\n",
      "Name: Molecule Name, Length: 1550, dtype: int64\n",
      "Molecule Max Phase\n",
      "NaN: 0\n",
      "0    50247\n",
      "4    14407\n",
      "3      291\n",
      "1       81\n",
      "2       77\n",
      "Name: Molecule Max Phase, dtype: int64\n",
      "Molecular Weight\n",
      "NaN: 0\n",
      "331.35     1327\n",
      "546.59      845\n",
      "299.35      715\n",
      "455.47      709\n",
      "517.56      615\n",
      "           ... \n",
      "1096.34       1\n",
      "776.88        1\n",
      "674.08        1\n",
      "601.26        1\n",
      "513.54        1\n",
      "Name: Molecular Weight, Length: 16603, dtype: int64\n",
      "#RO5 Violations\n",
      "NaN: 0\n",
      "0       36182\n",
      "1       10955\n",
      "2        9726\n",
      "None     4455\n",
      "3        3737\n",
      "4          48\n",
      "Name: #RO5 Violations, dtype: int64\n",
      "AlogP\n",
      "NaN: 0\n",
      "None     4455\n",
      "1.58     1379\n",
      "-1.30     849\n",
      "-0.18     750\n",
      "-0.62     732\n",
      "         ... \n",
      "-4.22       1\n",
      "16.46       1\n",
      "8.78        1\n",
      "-8.68       1\n",
      "-2.87       1\n",
      "Name: AlogP, Length: 1649, dtype: int64\n",
      "Compound Key\n",
      "NaN: 20\n",
      "1                           884\n",
      "2                           798\n",
      "4                           769\n",
      "3                           760\n",
      "5                           699\n",
      "                           ... \n",
      "1, chelocardin                1\n",
      "MMV1581546                    1\n",
      "E-sT-10,10,10,0               1\n",
      "SAM001246768                  1\n",
      "Cetylpyridinium chloride      1\n",
      "Name: Compound Key, Length: 8036, dtype: int64\n",
      "Smiles\n",
      "NaN: 109\n",
      "O=C(O)c1cn(C2CC2)c2cc(N3CCNCC3)c(F)cc2c1=O                                                   1296\n",
      "CC(C)(O/N=C(\\C(=O)N[C@@H]1C(=O)N2C(C(=O)[O-])=C(C[n+]3ccccc3)CS[C@H]12)c1csc(N)n1)C(=O)O      845\n",
      "C[C@@H](O)[C@H]1C(=O)N2C(C(=O)O)=C(SCCNC=N)C[C@H]12                                           714\n",
      "CO/N=C(\\C(=O)N[C@@H]1C(=O)N2C(C(=O)O)=C(COC(C)=O)CS[C@H]12)c1csc(N)n1                         701\n",
      "CCN1CCN(C(=O)N[C@@H](C(=O)N[C@@H]2C(=O)N3[C@@H](C(=O)O)C(C)(C)S[C@H]23)c2ccccc2)C(=O)C1=O     613\n",
      "                                                                                             ... \n",
      "Cc1cn(-c2c(-c3cc(-c4ccccc4)nc(N)c3C#N)c(C)nn2-c2ccccc2)cn1                                      1\n",
      "COc1ccc(-c2nc3ccccc3c(=O)n2C(=O)CCC(N)C(=O)O)cc1                                                1\n",
      "CC(C)=CCOc1ccc2c(c1)O[C@@H]1Oc3cc4c(c(O)c3C(=O)[C@]21O)C=CC(C)(C)O4                             1\n",
      "CC1(c2ccc(Br)cc2)CC(c2ccc(Br)cc2)=CC(N)=C1C#N                                                   1\n",
      "Cc1cc(=O)oc2cc(OCc3ccc(COc4ccc5c(C)cc(=O)oc5c4)cc3)ccc12                                        1\n",
      "Name: Smiles, Length: 35029, dtype: int64\n",
      "Standard Type\n",
      "NaN: 0\n",
      "MIC    65103\n",
      "Name: Standard Type, dtype: int64\n",
      "Standard Relation\n",
      "NaN: 1883\n",
      "'='     45480\n",
      "'>'     15310\n",
      "'<='      906\n",
      "'>='      795\n",
      "'<'       729\n",
      "Name: Standard Relation, dtype: int64\n",
      "Standard Value\n",
      "NaN: 1891\n",
      "64.0            3946\n",
      "128.0           3495\n",
      "32.0            3478\n",
      "16.0            2521\n",
      "8.0             2418\n",
      "                ... \n",
      "162.9              1\n",
      "10500.0            1\n",
      "934500.0           1\n",
      "109000.0           1\n",
      "158489319.25       1\n",
      "Name: Standard Value, Length: 2195, dtype: int64\n",
      "Standard Units\n",
      "NaN: 1911\n",
      "ug.mL-1             54905\n",
      "nM                   7442\n",
      "ug cm**-2             252\n",
      "ug                    148\n",
      "ug mg-1               135\n",
      "10'-2 umol/ml         128\n",
      "10'-3micromol/ml       33\n",
      "10'-2mmol/ml           32\n",
      "10'-2micromol/ml       22\n",
      "uL/ml                  21\n",
      "10'-2umol              21\n",
      "ppm                    18\n",
      "10'-3uM/ml             11\n",
      "microg/cm3              9\n",
      "microg                  8\n",
      "p.p.m.                  2\n",
      "ug disk-1               2\n",
      "10'4pg/ml               2\n",
      "%                       1\n",
      "Name: Standard Units, dtype: int64\n",
      "pChEMBL Value\n",
      "NaN: 65103\n",
      "Series([], Name: pChEMBL Value, dtype: int64)\n",
      "Data Validity Comment\n",
      "NaN: 63560\n",
      "Non standard unit for type    1079\n",
      "Outside typical range          449\n",
      "Potential missing data          15\n",
      "Name: Data Validity Comment, dtype: int64\n",
      "Comment\n",
      "NaN: 62345\n",
      "Not Determined                    962\n",
      "Not Active                        754\n",
      "resistant                          66\n",
      "Median N= 2                        55\n",
      "No activity                        30\n",
      "                                 ... \n",
      "Median N= 2; Maxinhib 21.9 Pct      1\n",
      "Median N= 2; Maxinhib 27.1 Pct      1\n",
      "Median N= 2; Maxinhib 42.0 Pct      1\n",
      "Median N= 2; Maxinhib 3.1 Pct       1\n",
      "Median N= 2; Maxinhib 75.7 Pct      1\n",
      "Name: Comment, Length: 296, dtype: int64\n",
      "Uo Units\n",
      "NaN: 2589\n",
      "UO_0000274    54905\n",
      "UO_0000065     7442\n",
      "UO_0000023      148\n",
      "UO_0000169       18\n",
      "UO_0000187        1\n",
      "Name: Uo Units, dtype: int64\n",
      "Ligand Efficiency BEI\n",
      "NaN: 65103\n",
      "Series([], Name: Ligand Efficiency BEI, dtype: int64)\n",
      "Ligand Efficiency LE\n",
      "NaN: 65103\n",
      "Series([], Name: Ligand Efficiency LE, dtype: int64)\n",
      "Ligand Efficiency LLE\n",
      "NaN: 65103\n",
      "Series([], Name: Ligand Efficiency LLE, dtype: int64)\n",
      "Ligand Efficiency SEI\n",
      "NaN: 65103\n",
      "Series([], Name: Ligand Efficiency SEI, dtype: int64)\n",
      "Potential Duplicate\n",
      "NaN: 0\n",
      "False    65103\n",
      "Name: Potential Duplicate, dtype: int64\n",
      "Assay ChEMBL ID\n",
      "NaN: 0\n",
      "CHEMBL4296185    897\n",
      "CHEMBL1640425    137\n",
      "CHEMBL1114505    124\n",
      "CHEMBL4194364    117\n",
      "CHEMBL679318     111\n",
      "                ... \n",
      "CHEMBL1690752      1\n",
      "CHEMBL3578805      1\n",
      "CHEMBL1265502      1\n",
      "CHEMBL1218100      1\n",
      "CHEMBL1680717      1\n",
      "Name: Assay ChEMBL ID, Length: 6779, dtype: int64\n",
      "Assay Description\n",
      "NaN: 0\n",
      "Antibacterial activity against Escherichia coli ATCC 25922 (CO-ADD:GN_001); MIC in CAMBH media using NBS plates, by OD(600)                                                                           897\n",
      "Antibacterial activity against Escherichia coli ATCC 25922                                                                                                                                            701\n",
      "Antibacterial activity against Escherichia coli                                                                                                                                                       690\n",
      "Antimicrobial activity against Escherichia coli                                                                                                                                                       474\n",
      "Minimum inhibitory concentration against Escherichia coli                                                                                                                                             411\n",
      "                                                                                                                                                                                                     ... \n",
      "Tested in vitro for antimicrobial activity against Escherichia coli MB 2884; value ranges from 8-16 ug/mL                                                                                               1\n",
      "Antimicrobial activity against qnrS1-positive ampicillin-resistant Escherichia coli isolate 8 expressing gyrA S83L/D87N and parC S80I mutants by Etest                                                  1\n",
      "Antibacterial activity against Escherichia coli (DE3)pLysS carrying pCold-IV by microdilution susceptibility test                                                                                       1\n",
      "Antibacterial activity against Escherichia coli Ec158 transconjugant harboring IncA/C plasmid and blaIMP-4-qacG2-aacA4-catB3 array by Etest method in presence of clavulanic acid                       1\n",
      "Antimicrobial activity against Escherichia coli DH5alpha harboring metallo-beta-lactamase IND-6 after 18 hrs by broth microdilution method in presence of beta-lactamase inhibitor clavulanic acid      1\n",
      "Name: Assay Description, Length: 6015, dtype: int64\n",
      "Assay Type\n",
      "NaN: 0\n",
      "F    64773\n",
      "A      330\n",
      "Name: Assay Type, dtype: int64\n",
      "BAO Format ID\n",
      "NaN: 0\n",
      "BAO_0000218    62668\n",
      "BAO_0000019     2415\n",
      "BAO_0000249       20\n",
      "Name: BAO Format ID, dtype: int64\n",
      "BAO Label\n",
      "NaN: 0\n",
      "organism-based format    62668\n",
      "assay format              2415\n",
      "cell membrane format        20\n",
      "Name: BAO Label, dtype: int64\n",
      "Assay Organism\n",
      "NaN: 0\n",
      "Escherichia coli                                      61665\n",
      "Escherichia coli ATCC 25922                            2656\n",
      "Escherichia coli BW25113                                163\n",
      "Escherichia coli str. K-12 substr. MG1655               115\n",
      "Escherichia coli BL21                                    94\n",
      "Escherichia coli BL21(DE3)                               90\n",
      "Escherichia coli str. K-12 substr. W3110                 65\n",
      "Escherichia coli W                                       65\n",
      "Escherichia coli str. K-12 substr. MC4100                40\n",
      "Escherichia coli ATCC 8739                               30\n",
      "Escherichia coli K-12                                    28\n",
      "Escherichia coli C                                       19\n",
      "Escherichia coli HB101                                   16\n",
      "Escherichia coli DSM 30083 = JCM 1649                    15\n",
      "Escherichia coli str. K-12 substr. DH10B                 11\n",
      "Escherichia coli O157:H7                                  9\n",
      "Escherichia coli DSM 30083 = JCM 1649 = ATCC 11775        8\n",
      "Escherichia coli DH5[alpha]                               6\n",
      "escherichia colin                                         4\n",
      "escherichia coli kc-14                                    2\n",
      "e. coli strain a3228                                      1\n",
      "escherichia coli a 15119                                  1\n",
      "Name: Assay Organism, dtype: int64\n",
      "Assay Tissue ChEMBL ID\n",
      "NaN: 0\n",
      "None             64969\n",
      "CHEMBL3638201      128\n",
      "CHEMBL3638188        6\n",
      "Name: Assay Tissue ChEMBL ID, dtype: int64\n",
      "Assay Tissue Name\n",
      "NaN: 0\n",
      "None     64969\n",
      "Urine      128\n",
      "Brain        6\n",
      "Name: Assay Tissue Name, dtype: int64\n",
      "Assay Cell Type\n",
      "NaN: 0\n",
      "None         65086\n",
      "ATCC 8739       10\n",
      "ISF 432          7\n",
      "Name: Assay Cell Type, dtype: int64\n",
      "Assay Subcellular Fraction\n",
      "NaN: 0\n",
      "None    65103\n",
      "Name: Assay Subcellular Fraction, dtype: int64\n",
      "Assay Parameters\n",
      "NaN: 64201\n",
      "ASSAY_TEST: Inhibition of Bacterial Growth | DETECTION_METHOD: Absorption (OD600) | MEDIA: CAMHB | PLATE_TYPE: 384well; NBS; CORNING #3640  | TIME = 18.0 hr    897\n",
      "ASSAY_TEST: Inhibition of Bacterial Growth | DETECTION_METHOD: Absorption (OD600) | MEDIA: CAMHB | PLATE_TYPE: NBS; 384well | TIME = 18.0 hr                      5\n",
      "Name: Assay Parameters, dtype: int64\n",
      "Assay Variant Accession\n",
      "NaN: 65103\n",
      "Series([], Name: Assay Variant Accession, dtype: int64)\n",
      "Assay Variant Mutation\n",
      "NaN: 65103\n",
      "Series([], Name: Assay Variant Mutation, dtype: int64)\n",
      "Target ChEMBL ID\n",
      "NaN: 0\n",
      "CHEMBL354    65103\n",
      "Name: Target ChEMBL ID, dtype: int64\n",
      "Target Name\n",
      "NaN: 0\n",
      "Escherichia coli    65103\n",
      "Name: Target Name, dtype: int64\n",
      "Target Organism\n",
      "NaN: 0\n",
      "Escherichia coli    65103\n",
      "Name: Target Organism, dtype: int64\n",
      "Target Type\n",
      "NaN: 0\n",
      "ORGANISM    65103\n",
      "Name: Target Type, dtype: int64\n",
      "Document ChEMBL ID\n",
      "NaN: 0\n",
      "CHEMBL4184210    855\n",
      "CHEMBL4513161    400\n",
      "CHEMBL1255404    294\n",
      "CHEMBL4152188    280\n",
      "CHEMBL4190388    276\n",
      "                ... \n",
      "CHEMBL1909579      1\n",
      "CHEMBL1154797      1\n",
      "CHEMBL1152689      1\n",
      "CHEMBL1629594      1\n",
      "CHEMBL1140199      1\n",
      "Name: Document ChEMBL ID, Length: 2923, dtype: int64\n",
      "Source ID\n",
      "NaN: 0\n",
      "1     64145\n",
      "40      902\n",
      "38       56\n",
      "Name: Source ID, dtype: int64\n",
      "Source Description\n",
      "NaN: 0\n",
      "Scientific Literature                  64145\n",
      "CO-ADD antimicrobial screening data      902\n",
      "Patent Bioactivity Data                   56\n",
      "Name: Source Description, dtype: int64\n",
      "Document Journal\n",
      "NaN: 958\n",
      "J. Med. Chem.                    11590\n",
      "Bioorg. Med. Chem. Lett.         11551\n",
      "Antimicrob. Agents Chemother.    10715\n",
      "Eur. J. Med. Chem.                8300\n",
      "Eur J Med Chem                    4933\n",
      "Med Chem Res                      3288\n",
      "Bioorg Med Chem Lett              3033\n",
      "Bioorg. Med. Chem.                2832\n",
      "J Med Chem                        2417\n",
      "J. Nat. Prod.                     1571\n",
      "MedChemComm                       1290\n",
      "Bioorg Med Chem                   1040\n",
      "J Nat Prod                         636\n",
      "ACS Med. Chem. Lett.               560\n",
      "ACS Med Chem Lett                  215\n",
      "J. Biol. Chem.                     115\n",
      "J Agric Food Chem                   23\n",
      "Chem Pharm Bull (Tokyo)             19\n",
      "Proc. Natl. Acad. Sci. U.S.A.        6\n",
      "Nature                               6\n",
      "Nat. Chem. Biol.                     3\n",
      "Science                              2\n",
      "Name: Document Journal, dtype: int64\n",
      "Document Year\n",
      "NaN: 958\n",
      "2010    6152\n",
      "2018    4892\n",
      "2009    4777\n",
      "2013    4456\n",
      "2008    4028\n",
      "2007    3977\n",
      "2019    3797\n",
      "2012    3696\n",
      "2011    3442\n",
      "2017    3307\n",
      "2014    3018\n",
      "2015    2830\n",
      "2016    2156\n",
      "2004     912\n",
      "2003     887\n",
      "1993     794\n",
      "2006     738\n",
      "1994     714\n",
      "1995     653\n",
      "1997     625\n",
      "1992     603\n",
      "2005     602\n",
      "1991     574\n",
      "1999     560\n",
      "1984     540\n",
      "1990     529\n",
      "2000     494\n",
      "2020     469\n",
      "1998     462\n",
      "1996     428\n",
      "1988     395\n",
      "2002     331\n",
      "1977     302\n",
      "1989     301\n",
      "1986     255\n",
      "1987     248\n",
      "2001     177\n",
      "1980     173\n",
      "1981     157\n",
      "1979     154\n",
      "1978     122\n",
      "1985     119\n",
      "1983     118\n",
      "1976      98\n",
      "1982      83\n",
      "Name: Document Year, dtype: int64\n",
      "Cell ChEMBL ID\n",
      "NaN: 0\n",
      "None    65103\n",
      "Name: Cell ChEMBL ID, dtype: int64\n",
      "Properties\n",
      "NaN: 65103\n",
      "Series([], Name: Properties, dtype: int64)\n"
     ]
    }
   ],
   "source": [
    "# Info on all columns\n",
    "for column in e_coli_master.columns:\n",
    "    print(column)\n",
    "    print('NaN:', e_coli_master[column].isna().sum())\n",
    "    print(e_coli_master[column].value_counts())"
   ]
  },
  {
   "cell_type": "code",
   "execution_count": null,
   "metadata": {},
   "outputs": [],
   "source": [
    "list(e_coli_master['Assay Description'].unique())"
   ]
  },
  {
   "cell_type": "markdown",
   "metadata": {},
   "source": [
    "### Before Looking at units and converting them and searching for NaNs I'll check the overlap of data between two sets\n",
    "\n",
    "(I will only take nameless molecules)"
   ]
  },
  {
   "cell_type": "code",
   "execution_count": null,
   "metadata": {},
   "outputs": [],
   "source": [
    "# # take rows where Mol name == nan\n",
    "\n",
    "# e_coli_smiles = e_coli_master[e_coli_master['Molecule Name'].isna()].reset_index(drop=True)[['Smiles', 'Standard Value']].dropna()\n",
    "# s_aureus_smiles = s_aureus_master[s_aureus_master['Molecule Name'].isna()].reset_index(drop=True)[['Smiles', 'Standard Value']].dropna()\n",
    "\n",
    "e_coli_smiles = e_coli_master[e_coli_master['Molecule Name'].isna()][['Smiles', 'Standard Value', 'Standard Units', 'Molecular Weight']].dropna()\n",
    "s_aureus_smiles = s_aureus_master[s_aureus_master['Molecule Name'].isna()][['Smiles', 'Standard Value', 'Standard Units', 'Molecular Weight']].dropna()\n",
    "\n",
    "# take rows where Standard Units ==  ug.mL-1\n",
    "\n",
    "e_coli_smiles = e_coli_smiles[e_coli_smiles['Standard Units'] =='ug.mL-1']\n",
    "s_aureus_smiles = s_aureus_smiles[s_aureus_smiles['Standard Units'] =='ug.mL-1']\n"
   ]
  },
  {
   "cell_type": "code",
   "execution_count": null,
   "metadata": {},
   "outputs": [],
   "source": [
    "# Value conversion time\n",
    "\n",
    "\n",
    "def uM(ug, mass):  # write a function that returns uM as calculated by ug * 1/mass * 1000\n",
    "    return float(ug) * (1/float(mass)) * 1000\n",
    "\n",
    "e_coli_smiles[\"uM\"] = e_coli_smiles.apply(lambda x :uM(x[\"Standard Value\"], x[\"Molecular Weight\"]), axis=1) # apply the function to the databas\n",
    "s_aureus_smiles[\"uM\"] = s_aureus_smiles.apply(lambda x :uM(x[\"Standard Value\"], x[\"Molecular Weight\"]), axis=1) # apply the function to the databas\n",
    "\n",
    "\n",
    "# Convert uM to pMIC\n",
    "\n",
    "e_coli_smiles['pMIC'] = [round(-1*np.log10(float(x) / 1000000), 2) for x in e_coli_smiles['Standard Value'].values] \n",
    "s_aureus_smiles['pMIC'] = [round(-1*np.log10(float(x) / 1000000), 2) for x in s_aureus_smiles['Standard Value'].values] "
   ]
  },
  {
   "cell_type": "code",
   "execution_count": null,
   "metadata": {},
   "outputs": [],
   "source": [
    "e_coli_smiles = e_coli_smiles.drop_duplicates(subset=['Smiles'], keep = 'first')\n",
    "s_aureus_smiles = s_aureus_smiles.drop_duplicates(subset=['Smiles'], keep = 'first')"
   ]
  },
  {
   "cell_type": "code",
   "execution_count": null,
   "metadata": {},
   "outputs": [],
   "source": [
    "merge = e_coli_smiles[['Smiles', 'pMIC']].merge(s_aureus_smiles[['Smiles', 'pMIC']], how='inner', on = 'Smiles', suffixes=['_e_coli','_s_aureus'])"
   ]
  },
  {
   "cell_type": "code",
   "execution_count": null,
   "metadata": {},
   "outputs": [],
   "source": [
    "print('permeating compounds:', len(merge[(merge['pMIC_s_aureus']>=5) & (merge['pMIC_e_coli']>=5)]))\n",
    "\n",
    "print('non-permeating compounds:', len(merge[(merge['pMIC_s_aureus']>=5) & (merge['pMIC_e_coli']<5)]))"
   ]
  },
  {
   "cell_type": "markdown",
   "metadata": {},
   "source": [
    "### There is huge overlap! Let's go in there in detail and sort this out"
   ]
  },
  {
   "cell_type": "markdown",
   "metadata": {},
   "source": [
    "#### E. coli"
   ]
  },
  {
   "cell_type": "markdown",
   "metadata": {},
   "source": [
    "In 65k of ecoli datapoints there are 6k unique descriptors, that sometimes mention strain (there is no strain column that i can filter by easily), since i want to clear up my data of mutants and susceptible strains i need to get clever about this..."
   ]
  },
  {
   "cell_type": "markdown",
   "metadata": {},
   "source": [
    "For the rest of compounds look at unique 'assay description' in E. coli (for every compound), text search and discard descriptors containing the following keywords:\n",
    "    1. sensitivity\n",
    "    2. sensitive\n",
    "    3. deficient\n",
    "    4. susceptible\n",
    "    5. mutated\n",
    "    6. delta\n",
    "    7. transformed\n",
    "    8. plasmid\n",
    "    9. substituted\n",
    "    10. gene\n",
    "    11. tol\n",
    "    12. ipx\n",
    "    13. ampC\n",
    "    14. harboring\n",
    "    15. lacking\n",
    "    16. transconjugated \n",
    "    17. efflux\n",
    "    18. lpx\n",
    "    19. SR58\n",
    "    20. rec\n",
    "    21. uvr\n",
    "\n",
    "I want compounds that are not susceptible or are mutants"
   ]
  },
  {
   "cell_type": "code",
   "execution_count": 3,
   "metadata": {
    "scrolled": true
   },
   "outputs": [
    {
     "name": "stdout",
     "output_type": "stream",
     "text": [
      "Descriptos found:  1665\n",
      "They represent 11391 compounds to be avoided \n"
     ]
    }
   ],
   "source": [
    "# filter out keywords in ecoli dataset assay description\n",
    "\n",
    "letgo_descriptors=[]\n",
    "for descriptor in e_coli_master['Assay Description'].unique():\n",
    "    descriptor_lower = descriptor.lower()\n",
    "    if re.search('(.*?)uvr(.*?)|(.*?)rec(.*?)|(.*?)sr58(.*?)|(.*?)lpx(.*?)|(.*?)efflux(.*?)|(.*?)transconjugated(.*?)|(.*?)ampc(.*?)|(.*?)lacking(.*?)|(.*?)harboring(.*?)|(.*?)tol(.*?)|(.*?)ipx(.*?)|(.*?)substituted(.*?)|(.*?)gene(.*?)|(.*?)delta(.*?)|(.*?)transformed(.*?)|(.*?)plasmid(.*?)|(.*?)sensitivity(.*?)|(.*?)sensitive(.*?)|(.*?)deficient(.*?)|(.*?)susceptible(.*?)|(.*?)mutant(.*?)|(.*?)mutate(.*?)', descriptor_lower) is not None:\n",
    "        letgo_descriptors.append(descriptor)\n",
    "        \n",
    "print('Descriptos found: ', len(letgo_descriptors))\n",
    "print('They represent {} compounds to be avoided '.format(len(e_coli_master[e_coli_master['Assay Description'].isin(letgo_descriptors)])))\n"
   ]
  },
  {
   "cell_type": "markdown",
   "metadata": {},
   "source": [
    "For every unique 'assay description' (for every compound), text search and definatelly *keep* descriptors containing the following keywords:\n",
    "    1. wild\n",
    "    2. wild-type\n",
    "    3. lactamase\n",
    "    4. 25922 # standart strain\n",
    "    5. 12241 # alternative strain name\n",
    "    6. resistant\n",
    "\n",
    "Compounds that have been tested against resistant strains are good as well as standart wild types"
   ]
  },
  {
   "cell_type": "code",
   "execution_count": null,
   "metadata": {},
   "outputs": [],
   "source": [
    "# filter out keywords in ecoli dataset assay description\n",
    "\n",
    "keep_descriptors=[]\n",
    "for descriptor in e_coli_master['Assay Description'].unique():\n",
    "    if re.search('(.*?)wild-type(.*?)|(.*?)wild(.*?)|(.*?)lactamase(.*?)|(.*?)25922(.*?)|(.*?)12241(.*?)|(.*?)resistant(.*?)|(.*?)resistance(.*?)', descriptor) is not None:\n",
    "        keep_descriptors.append(descriptor)\n",
    "print('Descriptos found: ', len(keep_descriptors))\n",
    "print('They represent {} compounds '.format(len(e_coli_master[e_coli_master['Assay Description'].isin(keep_descriptors)])))\n"
   ]
  },
  {
   "cell_type": "code",
   "execution_count": 4,
   "metadata": {},
   "outputs": [],
   "source": [
    "e_coli_master_clean = e_coli_master[e_coli_master['Assay Description'].isin(letgo_descriptors) == False]"
   ]
  },
  {
   "cell_type": "code",
   "execution_count": 5,
   "metadata": {},
   "outputs": [
    {
     "name": "stdout",
     "output_type": "stream",
     "text": [
      "Final E. coli count:  53712\n"
     ]
    }
   ],
   "source": [
    "print('Final E. coli count: ', len(e_coli_master_clean))"
   ]
  },
  {
   "cell_type": "code",
   "execution_count": 6,
   "metadata": {},
   "outputs": [],
   "source": [
    "# Drop molecule names! (10k datapoints)\n",
    "\n",
    "e_coli_smiles = e_coli_master_clean[e_coli_master_clean['Molecule Name'].isna()][['Smiles', 'Standard Value', 'Standard Units', 'Molecular Weight']].dropna()\n"
   ]
  },
  {
   "cell_type": "code",
   "execution_count": 7,
   "metadata": {},
   "outputs": [],
   "source": [
    "e_coli_smiles = e_coli_master_clean[['Smiles', 'Standard Value', 'Standard Units', 'Molecular Weight']].dropna()"
   ]
  },
  {
   "cell_type": "code",
   "execution_count": 8,
   "metadata": {},
   "outputs": [
    {
     "name": "stdout",
     "output_type": "stream",
     "text": [
      "After droppping named molecules:  52011\n"
     ]
    }
   ],
   "source": [
    "print('After droppping named molecules: ', len(e_coli_smiles) )"
   ]
  },
  {
   "cell_type": "markdown",
   "metadata": {},
   "source": [
    "## Convert nM and ug.mL-1 ---> pMIC"
   ]
  },
  {
   "cell_type": "code",
   "execution_count": 9,
   "metadata": {},
   "outputs": [
    {
     "data": {
      "text/plain": [
       "ug.mL-1             44630\n",
       "nM                   6782\n",
       "ug                    147\n",
       "10'-2 umol/ml         128\n",
       "ug mg-1               112\n",
       "ug cm**-2              42\n",
       "10'-3micromol/ml       33\n",
       "10'-2mmol/ml           32\n",
       "10'-2micromol/ml       22\n",
       "10'-2umol              21\n",
       "ppm                    18\n",
       "10'-3uM/ml             11\n",
       "microg/cm3              9\n",
       "uL/ml                   9\n",
       "microg                  8\n",
       "10'4pg/ml               2\n",
       "p.p.m.                  2\n",
       "ug disk-1               2\n",
       "%                       1\n",
       "Name: Standard Units, dtype: int64"
      ]
     },
     "execution_count": 9,
     "metadata": {},
     "output_type": "execute_result"
    }
   ],
   "source": [
    "e_coli_smiles['Standard Units'].value_counts()"
   ]
  },
  {
   "cell_type": "code",
   "execution_count": 10,
   "metadata": {},
   "outputs": [],
   "source": [
    "# other units are small percentage"
   ]
  },
  {
   "cell_type": "code",
   "execution_count": 11,
   "metadata": {},
   "outputs": [],
   "source": [
    "df_ug = e_coli_smiles[e_coli_smiles['Standard Units'] =='ug.mL-1']\n",
    "df_nm = e_coli_smiles[e_coli_smiles['Standard Units'] =='nM']"
   ]
  },
  {
   "cell_type": "code",
   "execution_count": 12,
   "metadata": {},
   "outputs": [],
   "source": [
    "def uM(ug, mass):  # write a function that returns uM as calculated by ug * 1/mass * 1000\n",
    "    if 100 > float(ug) > 0:\n",
    "        return float(ug) * (1/float(mass)) * 1000"
   ]
  },
  {
   "cell_type": "code",
   "execution_count": 13,
   "metadata": {
    "collapsed": true,
    "jupyter": {
     "outputs_hidden": true
    }
   },
   "outputs": [
    {
     "name": "stderr",
     "output_type": "stream",
     "text": [
      "/homes/dgurvic/software/miniconda3/envs/jupt_test/lib/python3.7/site-packages/ipykernel_launcher.py:3: SettingWithCopyWarning: \n",
      "A value is trying to be set on a copy of a slice from a DataFrame.\n",
      "Try using .loc[row_indexer,col_indexer] = value instead\n",
      "\n",
      "See the caveats in the documentation: http://pandas.pydata.org/pandas-docs/stable/user_guide/indexing.html#returning-a-view-versus-a-copy\n",
      "  This is separate from the ipykernel package so we can avoid doing imports until\n",
      "/homes/dgurvic/software/miniconda3/envs/jupt_test/lib/python3.7/site-packages/ipykernel_launcher.py:5: SettingWithCopyWarning: \n",
      "A value is trying to be set on a copy of a slice from a DataFrame.\n",
      "Try using .loc[row_indexer,col_indexer] = value instead\n",
      "\n",
      "See the caveats in the documentation: http://pandas.pydata.org/pandas-docs/stable/user_guide/indexing.html#returning-a-view-versus-a-copy\n",
      "  \"\"\"\n"
     ]
    }
   ],
   "source": [
    "#df_ug[\"uM\"] = df_ug.apply(lambda x :uM(x[\"Standard Value\"], x[\"Molecular Weight\"]), axis=1) \n",
    "\n",
    "df_ug['pMIC'] = [round((-1*np.log10(float(x) / 1000000)), 2) for x in df_ug.apply(lambda x :uM(x[\"Standard Value\"], x[\"Molecular Weight\"]), axis=1) ] \n",
    "\n",
    "df_nm['Standard Value'] = df_nm['Standard Value'].apply(np.float)\n",
    "\n",
    "df_nm = df_nm[(df_nm['Standard Value'] > 0) & (df_nm['Standard Value'] < 1e6)]\n",
    "                                            \n",
    "df_nm['pMIC'] = [round((-1*np.log10(float(x) / 1000000000)), 2) for x in df_nm['Standard Value'].values] "
   ]
  },
  {
   "cell_type": "code",
   "execution_count": 14,
   "metadata": {
    "scrolled": true
   },
   "outputs": [],
   "source": [
    "e_coli_pmic = df_ug.append(df_nm)"
   ]
  },
  {
   "cell_type": "code",
   "execution_count": 15,
   "metadata": {
    "collapsed": true,
    "jupyter": {
     "outputs_hidden": true
    }
   },
   "outputs": [
    {
     "data": {
      "text/html": [
       "<div>\n",
       "<style scoped>\n",
       "    .dataframe tbody tr th:only-of-type {\n",
       "        vertical-align: middle;\n",
       "    }\n",
       "\n",
       "    .dataframe tbody tr th {\n",
       "        vertical-align: top;\n",
       "    }\n",
       "\n",
       "    .dataframe thead th {\n",
       "        text-align: right;\n",
       "    }\n",
       "</style>\n",
       "<table border=\"1\" class=\"dataframe\">\n",
       "  <thead>\n",
       "    <tr style=\"text-align: right;\">\n",
       "      <th></th>\n",
       "      <th>Smiles</th>\n",
       "      <th>Standard Value</th>\n",
       "      <th>Standard Units</th>\n",
       "      <th>Molecular Weight</th>\n",
       "      <th>pMIC</th>\n",
       "    </tr>\n",
       "  </thead>\n",
       "  <tbody>\n",
       "    <tr>\n",
       "      <th>17</th>\n",
       "      <td>COc1cc(C(=O)O[C@H]2CCC(=O)c3ccccc32)cc(OC)c1OC</td>\n",
       "      <td>250.0</td>\n",
       "      <td>ug.mL-1</td>\n",
       "      <td>356.37</td>\n",
       "      <td>NaN</td>\n",
       "    </tr>\n",
       "    <tr>\n",
       "      <th>22</th>\n",
       "      <td>CC1(C)S[C@@H]2[C@H](NC(=O)[C@H](N)c3ccccc3)C(=...</td>\n",
       "      <td>100.0</td>\n",
       "      <td>ug.mL-1</td>\n",
       "      <td>349.41</td>\n",
       "      <td>NaN</td>\n",
       "    </tr>\n",
       "    <tr>\n",
       "      <th>39</th>\n",
       "      <td>CCCCCN(CCCCC)C(=O)[C@@H](N)CCCCN.Cl.Cl</td>\n",
       "      <td>128.0</td>\n",
       "      <td>ug.mL-1</td>\n",
       "      <td>358.40</td>\n",
       "      <td>NaN</td>\n",
       "    </tr>\n",
       "    <tr>\n",
       "      <th>41</th>\n",
       "      <td>Cc1cc(C)n(CC(=O)c2ccc([N+](=O)[O-])cc2)n1</td>\n",
       "      <td>256.0</td>\n",
       "      <td>ug.mL-1</td>\n",
       "      <td>259.26</td>\n",
       "      <td>NaN</td>\n",
       "    </tr>\n",
       "    <tr>\n",
       "      <th>54</th>\n",
       "      <td>Brc1ccc(NCc2ccc3cc2OCC#C/C=C\\C#CCO3)cc1</td>\n",
       "      <td>128.0</td>\n",
       "      <td>ug.mL-1</td>\n",
       "      <td>394.27</td>\n",
       "      <td>NaN</td>\n",
       "    </tr>\n",
       "    <tr>\n",
       "      <th>...</th>\n",
       "      <td>...</td>\n",
       "      <td>...</td>\n",
       "      <td>...</td>\n",
       "      <td>...</td>\n",
       "      <td>...</td>\n",
       "    </tr>\n",
       "    <tr>\n",
       "      <th>65062</th>\n",
       "      <td>CCOC(=O)C1=C(N)N(c2cccc(O)c2)C2=C(C(=O)CC(C)(C...</td>\n",
       "      <td>200.0</td>\n",
       "      <td>ug.mL-1</td>\n",
       "      <td>578.67</td>\n",
       "      <td>NaN</td>\n",
       "    </tr>\n",
       "    <tr>\n",
       "      <th>65065</th>\n",
       "      <td>CC[C@H](C)[C@H](NC(=O)[C@@H](Cc1ccccc1)NC)C(=O...</td>\n",
       "      <td>128.0</td>\n",
       "      <td>ug.mL-1</td>\n",
       "      <td>1230.52</td>\n",
       "      <td>NaN</td>\n",
       "    </tr>\n",
       "    <tr>\n",
       "      <th>65067</th>\n",
       "      <td>O=C(/C=C/c1cccc(Nc2ccnc3cc(Cl)ccc23)c1)c1ccccc1</td>\n",
       "      <td>1000.0</td>\n",
       "      <td>ug.mL-1</td>\n",
       "      <td>384.87</td>\n",
       "      <td>NaN</td>\n",
       "    </tr>\n",
       "    <tr>\n",
       "      <th>65078</th>\n",
       "      <td>Cc1cc(Br)c2c(CP(=O)(O)O)cc(=O)oc2c1</td>\n",
       "      <td>128.0</td>\n",
       "      <td>ug.mL-1</td>\n",
       "      <td>333.07</td>\n",
       "      <td>NaN</td>\n",
       "    </tr>\n",
       "    <tr>\n",
       "      <th>65092</th>\n",
       "      <td>NCc1ccc(-c2ccc(N3C[C@H](Cn4nncc4CO)OC3=O)cc2F)cc1</td>\n",
       "      <td>256.0</td>\n",
       "      <td>ug.mL-1</td>\n",
       "      <td>397.41</td>\n",
       "      <td>NaN</td>\n",
       "    </tr>\n",
       "  </tbody>\n",
       "</table>\n",
       "<p>10897 rows × 5 columns</p>\n",
       "</div>"
      ],
      "text/plain": [
       "                                                  Smiles Standard Value  \\\n",
       "17        COc1cc(C(=O)O[C@H]2CCC(=O)c3ccccc32)cc(OC)c1OC          250.0   \n",
       "22     CC1(C)S[C@@H]2[C@H](NC(=O)[C@H](N)c3ccccc3)C(=...          100.0   \n",
       "39                CCCCCN(CCCCC)C(=O)[C@@H](N)CCCCN.Cl.Cl          128.0   \n",
       "41             Cc1cc(C)n(CC(=O)c2ccc([N+](=O)[O-])cc2)n1          256.0   \n",
       "54               Brc1ccc(NCc2ccc3cc2OCC#C/C=C\\C#CCO3)cc1          128.0   \n",
       "...                                                  ...            ...   \n",
       "65062  CCOC(=O)C1=C(N)N(c2cccc(O)c2)C2=C(C(=O)CC(C)(C...          200.0   \n",
       "65065  CC[C@H](C)[C@H](NC(=O)[C@@H](Cc1ccccc1)NC)C(=O...          128.0   \n",
       "65067    O=C(/C=C/c1cccc(Nc2ccnc3cc(Cl)ccc23)c1)c1ccccc1         1000.0   \n",
       "65078                Cc1cc(Br)c2c(CP(=O)(O)O)cc(=O)oc2c1          128.0   \n",
       "65092  NCc1ccc(-c2ccc(N3C[C@H](Cn4nncc4CO)OC3=O)cc2F)cc1          256.0   \n",
       "\n",
       "      Standard Units Molecular Weight  pMIC  \n",
       "17           ug.mL-1           356.37   NaN  \n",
       "22           ug.mL-1           349.41   NaN  \n",
       "39           ug.mL-1           358.40   NaN  \n",
       "41           ug.mL-1           259.26   NaN  \n",
       "54           ug.mL-1           394.27   NaN  \n",
       "...              ...              ...   ...  \n",
       "65062        ug.mL-1           578.67   NaN  \n",
       "65065        ug.mL-1          1230.52   NaN  \n",
       "65067        ug.mL-1           384.87   NaN  \n",
       "65078        ug.mL-1           333.07   NaN  \n",
       "65092        ug.mL-1           397.41   NaN  \n",
       "\n",
       "[10897 rows x 5 columns]"
      ]
     },
     "execution_count": 15,
     "metadata": {},
     "output_type": "execute_result"
    }
   ],
   "source": [
    "# Chembl errors???!?\n",
    "\n",
    "e_coli_pmic[e_coli_pmic['pMIC'].isna()]"
   ]
  },
  {
   "cell_type": "code",
   "execution_count": 16,
   "metadata": {
    "scrolled": true
   },
   "outputs": [
    {
     "name": "stdout",
     "output_type": "stream",
     "text": [
      "after unit conversion:  40009\n"
     ]
    }
   ],
   "source": [
    "# dropna\n",
    "e_coli_pmic = e_coli_pmic.dropna()\n",
    "print('after unit conversion: ', len(e_coli_pmic) )"
   ]
  },
  {
   "cell_type": "code",
   "execution_count": 17,
   "metadata": {},
   "outputs": [],
   "source": [
    "# Combine duplicates and average their pMIC\n",
    "\n",
    "\n",
    "e_coli_pmic =  pd.DataFrame(e_coli_pmic.groupby(e_coli_pmic.Smiles).mean()).reset_index()"
   ]
  },
  {
   "cell_type": "code",
   "execution_count": 18,
   "metadata": {},
   "outputs": [],
   "source": [
    "# Clean csv of e_coli_pmic\n",
    "\n",
    "\n",
    "e_coli_pmic[['Smiles', 'pMIC']].to_csv('e_coli_pmic.csv', index=False)"
   ]
  },
  {
   "cell_type": "markdown",
   "metadata": {},
   "source": [
    "### E. coli pMIC distribution:"
   ]
  },
  {
   "cell_type": "code",
   "execution_count": 19,
   "metadata": {},
   "outputs": [
    {
     "data": {
      "text/plain": [
       "<matplotlib.axes._subplots.AxesSubplot at 0x2aef7d509d50>"
      ]
     },
     "execution_count": 19,
     "metadata": {},
     "output_type": "execute_result"
    },
    {
     "data": {
      "image/png": "[encoded data removed]",
      "text/plain": [
       "<Figure size 432x288 with 1 Axes>"
      ]
     },
     "metadata": {
      "needs_background": "light"
     },
     "output_type": "display_data"
    }
   ],
   "source": [
    "e_coli_pmic.pMIC.hist()"
   ]
  },
  {
   "cell_type": "markdown",
   "metadata": {},
   "source": [
    "# And now same for S. aureus!"
   ]
  },
  {
   "cell_type": "markdown",
   "metadata": {},
   "source": [
    "In 113k of s aureus datapoints there are 11k unique descriptors, that sometimes mention strain (there is no strain column that i can filter by easily), since i want to clear up my data of mutants and susceptible strains i need to get clever about this...\n",
    "\n",
    "\n",
    "For every unique 'assay description' (for every compound), text search and discard descriptors containing the following keywords:\n",
    "    1. sensitivity\n",
    "    2. sensitive\n",
    "    3. deficient\n",
    "    4. susceptible\n",
    "    5. mutated\n",
    "    6. delta\n",
    "    7. transformed\n",
    "    8. plasmid\n",
    "    9. substituted\n",
    "    10. gene\n",
    "    11. harboring\n",
    "    12. lacking\n",
    "    13. transconjugated \n",
    "\n",
    "I want compounds that are not susceptible or are mutants"
   ]
  },
  {
   "cell_type": "code",
   "execution_count": 20,
   "metadata": {},
   "outputs": [
    {
     "name": "stdout",
     "output_type": "stream",
     "text": [
      "Descriptos found:  1893\n",
      "They represent 15584 compounds to be avoided \n"
     ]
    }
   ],
   "source": [
    "### S. aureus\n",
    "\n",
    "letgo_descriptors_s_aureus=[]\n",
    "\n",
    "for descriptor in s_aureus_master['Assay Description'].unique():\n",
    "    descriptor_lower = descriptor.lower()\n",
    "    if re.search('(.*?)transconjugated(.*?)|(.*?)ampc(.*?)|(.*?)lacking(.*?)|(.*?)harboring(.*?)|(.*?)tol(.*?)|(.*?)ipx(.*?)|(.*?)substituted(.*?)|(.*?)gene(.*?)|(.*?)delta(.*?)|(.*?)transformed(.*?)|(.*?)plasmid(.*?)|(.*?)sensitivity(.*?)|(.*?)sensitive(.*?)|(.*?)deficient(.*?)|(.*?)susceptible(.*?)|(.*?)mutant(.*?)|(.*?)mutate(.*?)', descriptor_lower) is not None:\n",
    "        letgo_descriptors_s_aureus.append(descriptor)\n",
    "        \n",
    "print('Descriptos found: ', len(letgo_descriptors_s_aureus))\n",
    "print('They represent {} compounds to be avoided '.format(len(s_aureus_master[s_aureus_master['Assay Description'].isin(letgo_descriptors_s_aureus)])))\n"
   ]
  },
  {
   "cell_type": "code",
   "execution_count": 21,
   "metadata": {},
   "outputs": [],
   "source": [
    " # Drop molecule names!! (10k datapoints)\n",
    "\n",
    "s_aureus_master_clean = s_aureus_master[s_aureus_master['Assay Description'].isin(letgo_descriptors) == False]\n",
    "\n",
    "s_aureus_smiles = s_aureus_master_clean[s_aureus_master_clean['Molecule Name'].isna()][['Smiles', 'Standard Value', 'Standard Units', 'Molecular Weight']].dropna()\n",
    " "
   ]
  },
  {
   "cell_type": "code",
   "execution_count": 22,
   "metadata": {
    "scrolled": true
   },
   "outputs": [
    {
     "name": "stdout",
     "output_type": "stream",
     "text": [
      "Final s. aureus count: 89896\n"
     ]
    }
   ],
   "source": [
    "print('Final s. aureus count:', len(s_aureus_smiles))"
   ]
  },
  {
   "cell_type": "markdown",
   "metadata": {},
   "source": [
    "## Convert nM and ug.mL-1 ---> pMIC"
   ]
  },
  {
   "cell_type": "code",
   "execution_count": 23,
   "metadata": {
    "scrolled": true
   },
   "outputs": [
    {
     "data": {
      "text/plain": [
       "ug.mL-1             78922\n",
       "nM                  10222\n",
       "ug cm**-2             164\n",
       "p.p.m.                129\n",
       "10'-2 umol/ml         113\n",
       "ug mg-1                80\n",
       "ug                     57\n",
       "U ml-1                 35\n",
       "10'-2mmol/ml           30\n",
       "10'-3micromol/ml       25\n",
       "10'-2umol              20\n",
       "10'-2micromol/ml       20\n",
       "uL/ml                  15\n",
       "microg                 14\n",
       "ppm                    12\n",
       "ug m1 l-1               9\n",
       "10'-3uM/ml              9\n",
       "microg/cm3              8\n",
       "%                       5\n",
       "ug/disk                 3\n",
       "ug l-1                  1\n",
       "ug cm**-3               1\n",
       "ug disk-1               1\n",
       "IU/ml                   1\n",
       "Name: Standard Units, dtype: int64"
      ]
     },
     "execution_count": 23,
     "metadata": {},
     "output_type": "execute_result"
    }
   ],
   "source": [
    "s_aureus_smiles['Standard Units'].value_counts()"
   ]
  },
  {
   "cell_type": "code",
   "execution_count": 24,
   "metadata": {},
   "outputs": [],
   "source": [
    "df_ug_s_aureus = s_aureus_smiles[s_aureus_smiles['Standard Units'] =='ug.mL-1']\n",
    "df_nm_s_aureus = s_aureus_smiles[s_aureus_smiles['Standard Units'] =='nM']"
   ]
  },
  {
   "cell_type": "code",
   "execution_count": 25,
   "metadata": {},
   "outputs": [
    {
     "name": "stderr",
     "output_type": "stream",
     "text": [
      "/homes/dgurvic/software/miniconda3/envs/jupt_test/lib/python3.7/site-packages/ipykernel_launcher.py:3: SettingWithCopyWarning: \n",
      "A value is trying to be set on a copy of a slice from a DataFrame.\n",
      "Try using .loc[row_indexer,col_indexer] = value instead\n",
      "\n",
      "See the caveats in the documentation: http://pandas.pydata.org/pandas-docs/stable/user_guide/indexing.html#returning-a-view-versus-a-copy\n",
      "  This is separate from the ipykernel package so we can avoid doing imports until\n",
      "/homes/dgurvic/software/miniconda3/envs/jupt_test/lib/python3.7/site-packages/ipykernel_launcher.py:6: SettingWithCopyWarning: \n",
      "A value is trying to be set on a copy of a slice from a DataFrame.\n",
      "Try using .loc[row_indexer,col_indexer] = value instead\n",
      "\n",
      "See the caveats in the documentation: http://pandas.pydata.org/pandas-docs/stable/user_guide/indexing.html#returning-a-view-versus-a-copy\n",
      "  \n"
     ]
    }
   ],
   "source": [
    "## Some calcualtions produce nans, that is due to mistypes from Chembl\n",
    "\n",
    "df_ug_s_aureus['pMIC'] = [round((-1*np.log10(float(x) / 1000000)), 2) for x in df_ug_s_aureus.apply(lambda x :uM(x[\"Standard Value\"], x[\"Molecular Weight\"]), axis=1) ] \n",
    "\n",
    "\n",
    "df_nm_s_aureus['Standard Value'] = df_nm_s_aureus['Standard Value'].apply(np.float)\n",
    "\n",
    "df_nm_s_aureus = df_nm_s_aureus[(df_nm_s_aureus['Standard Value'] > 0) & (df_nm_s_aureus['Standard Value'] < 1e6)]\n",
    "\n",
    "\n",
    "df_nm_s_aureus['pMIC'] = [round((-1*np.log10(float(x) / 1000000000)), 2) for x in df_nm_s_aureus['Standard Value'].values] "
   ]
  },
  {
   "cell_type": "code",
   "execution_count": 26,
   "metadata": {},
   "outputs": [],
   "source": [
    "s_aureus_pmic = df_ug_s_aureus.append(df_nm_s_aureus)"
   ]
  },
  {
   "cell_type": "code",
   "execution_count": 27,
   "metadata": {
    "collapsed": true,
    "jupyter": {
     "outputs_hidden": true
    }
   },
   "outputs": [
    {
     "data": {
      "text/html": [
       "<div>\n",
       "<style scoped>\n",
       "    .dataframe tbody tr th:only-of-type {\n",
       "        vertical-align: middle;\n",
       "    }\n",
       "\n",
       "    .dataframe tbody tr th {\n",
       "        vertical-align: top;\n",
       "    }\n",
       "\n",
       "    .dataframe thead th {\n",
       "        text-align: right;\n",
       "    }\n",
       "</style>\n",
       "<table border=\"1\" class=\"dataframe\">\n",
       "  <thead>\n",
       "    <tr style=\"text-align: right;\">\n",
       "      <th></th>\n",
       "      <th>Smiles</th>\n",
       "      <th>Standard Value</th>\n",
       "      <th>Standard Units</th>\n",
       "      <th>Molecular Weight</th>\n",
       "      <th>pMIC</th>\n",
       "    </tr>\n",
       "  </thead>\n",
       "  <tbody>\n",
       "    <tr>\n",
       "      <th>2</th>\n",
       "      <td>FC(F)(F)Oc1ccc(-c2noc(-c3n[nH]cc3Cl)n2)cc1</td>\n",
       "      <td>128.0</td>\n",
       "      <td>ug.mL-1</td>\n",
       "      <td>330.65</td>\n",
       "      <td>NaN</td>\n",
       "    </tr>\n",
       "    <tr>\n",
       "      <th>22</th>\n",
       "      <td>O=C1CS/C(=N\\N=C2CCCCCC2)N1Cc1ccc([N+](=O)[O-])cc1</td>\n",
       "      <td>256.0</td>\n",
       "      <td>ug.mL-1</td>\n",
       "      <td>360.44</td>\n",
       "      <td>NaN</td>\n",
       "    </tr>\n",
       "    <tr>\n",
       "      <th>39</th>\n",
       "      <td>N#Cc1ccc(-c2nc3ccccc3c(=O)[nH]2)cc1</td>\n",
       "      <td>128.0</td>\n",
       "      <td>ug.mL-1</td>\n",
       "      <td>247.26</td>\n",
       "      <td>NaN</td>\n",
       "    </tr>\n",
       "    <tr>\n",
       "      <th>40</th>\n",
       "      <td>CC(C)(C)OC(=O)CCCCNC(=O)[C@H](CCCCN1C(=O)c2ccc...</td>\n",
       "      <td>500.0</td>\n",
       "      <td>ug.mL-1</td>\n",
       "      <td>617.48</td>\n",
       "      <td>NaN</td>\n",
       "    </tr>\n",
       "    <tr>\n",
       "      <th>41</th>\n",
       "      <td>C[C@@H](NC(=O)[C@H](CCCCNC(=O)CI)NC(=O)OC(C)(C...</td>\n",
       "      <td>125.0</td>\n",
       "      <td>ug.mL-1</td>\n",
       "      <td>612.51</td>\n",
       "      <td>NaN</td>\n",
       "    </tr>\n",
       "    <tr>\n",
       "      <th>...</th>\n",
       "      <td>...</td>\n",
       "      <td>...</td>\n",
       "      <td>...</td>\n",
       "      <td>...</td>\n",
       "      <td>...</td>\n",
       "    </tr>\n",
       "    <tr>\n",
       "      <th>113498</th>\n",
       "      <td>Clc1cc(Cl)cc(N2N=C(c3ccc(Br)cc3)CC2c2cccc(Nc3c...</td>\n",
       "      <td>1000.0</td>\n",
       "      <td>ug.mL-1</td>\n",
       "      <td>622.78</td>\n",
       "      <td>NaN</td>\n",
       "    </tr>\n",
       "    <tr>\n",
       "      <th>113499</th>\n",
       "      <td>CC(=O)N1N=C(c2ccc(C)cc2)CC1c1cccc(Nc2ccnc3cc(C...</td>\n",
       "      <td>1000.0</td>\n",
       "      <td>ug.mL-1</td>\n",
       "      <td>454.96</td>\n",
       "      <td>NaN</td>\n",
       "    </tr>\n",
       "    <tr>\n",
       "      <th>113524</th>\n",
       "      <td>O=C(/C=C/c1cccc(Nc2ccnc3cc(Cl)ccc23)c1)c1ccc(B...</td>\n",
       "      <td>1000.0</td>\n",
       "      <td>ug.mL-1</td>\n",
       "      <td>463.76</td>\n",
       "      <td>NaN</td>\n",
       "    </tr>\n",
       "    <tr>\n",
       "      <th>113525</th>\n",
       "      <td>O=CN1N=C(c2ccccc2)CC1c1cccc(Nc2ccnc3cc(Cl)ccc2...</td>\n",
       "      <td>1000.0</td>\n",
       "      <td>ug.mL-1</td>\n",
       "      <td>426.91</td>\n",
       "      <td>NaN</td>\n",
       "    </tr>\n",
       "    <tr>\n",
       "      <th>113548</th>\n",
       "      <td>COC(=O)[C@H]1C[C@@H](C(=O)OC)C(c2ccccc2)(c2ccc...</td>\n",
       "      <td>125.0</td>\n",
       "      <td>ug.mL-1</td>\n",
       "      <td>627.72</td>\n",
       "      <td>NaN</td>\n",
       "    </tr>\n",
       "  </tbody>\n",
       "</table>\n",
       "<p>13383 rows × 5 columns</p>\n",
       "</div>"
      ],
      "text/plain": [
       "                                                   Smiles Standard Value  \\\n",
       "2              FC(F)(F)Oc1ccc(-c2noc(-c3n[nH]cc3Cl)n2)cc1          128.0   \n",
       "22      O=C1CS/C(=N\\N=C2CCCCCC2)N1Cc1ccc([N+](=O)[O-])cc1          256.0   \n",
       "39                    N#Cc1ccc(-c2nc3ccccc3c(=O)[nH]2)cc1          128.0   \n",
       "40      CC(C)(C)OC(=O)CCCCNC(=O)[C@H](CCCCN1C(=O)c2ccc...          500.0   \n",
       "41      C[C@@H](NC(=O)[C@H](CCCCNC(=O)CI)NC(=O)OC(C)(C...          125.0   \n",
       "...                                                   ...            ...   \n",
       "113498  Clc1cc(Cl)cc(N2N=C(c3ccc(Br)cc3)CC2c2cccc(Nc3c...         1000.0   \n",
       "113499  CC(=O)N1N=C(c2ccc(C)cc2)CC1c1cccc(Nc2ccnc3cc(C...         1000.0   \n",
       "113524  O=C(/C=C/c1cccc(Nc2ccnc3cc(Cl)ccc23)c1)c1ccc(B...         1000.0   \n",
       "113525  O=CN1N=C(c2ccccc2)CC1c1cccc(Nc2ccnc3cc(Cl)ccc2...         1000.0   \n",
       "113548  COC(=O)[C@H]1C[C@@H](C(=O)OC)C(c2ccccc2)(c2ccc...          125.0   \n",
       "\n",
       "       Standard Units Molecular Weight  pMIC  \n",
       "2             ug.mL-1           330.65   NaN  \n",
       "22            ug.mL-1           360.44   NaN  \n",
       "39            ug.mL-1           247.26   NaN  \n",
       "40            ug.mL-1           617.48   NaN  \n",
       "41            ug.mL-1           612.51   NaN  \n",
       "...               ...              ...   ...  \n",
       "113498        ug.mL-1           622.78   NaN  \n",
       "113499        ug.mL-1           454.96   NaN  \n",
       "113524        ug.mL-1           463.76   NaN  \n",
       "113525        ug.mL-1           426.91   NaN  \n",
       "113548        ug.mL-1           627.72   NaN  \n",
       "\n",
       "[13383 rows x 5 columns]"
      ]
     },
     "execution_count": 27,
     "metadata": {},
     "output_type": "execute_result"
    }
   ],
   "source": [
    "## Chembl errors!!??\n",
    "\n",
    "s_aureus_pmic[s_aureus_pmic['pMIC'].isna()]"
   ]
  },
  {
   "cell_type": "code",
   "execution_count": 28,
   "metadata": {},
   "outputs": [
    {
     "name": "stdout",
     "output_type": "stream",
     "text": [
      "after unit conversion:  75124\n"
     ]
    }
   ],
   "source": [
    "# dropna\n",
    "s_aureus_pmic = s_aureus_pmic.dropna()\n",
    "print('after unit conversion: ', len(s_aureus_pmic) )\n",
    "\n",
    "s_aureus_pmic =  pd.DataFrame(s_aureus_pmic.groupby(s_aureus_pmic.Smiles).mean()).reset_index()"
   ]
  },
  {
   "cell_type": "code",
   "execution_count": 29,
   "metadata": {},
   "outputs": [
    {
     "data": {
      "text/plain": [
       "<matplotlib.axes._subplots.AxesSubplot at 0x2aef7bd6f6d0>"
      ]
     },
     "execution_count": 29,
     "metadata": {},
     "output_type": "execute_result"
    },
    {
     "data": {
      "image/png": "[encoded data removed]",
      "text/plain": [
       "<Figure size 432x288 with 1 Axes>"
      ]
     },
     "metadata": {
      "needs_background": "light"
     },
     "output_type": "display_data"
    }
   ],
   "source": [
    "s_aureus_pmic.pMIC.hist()"
   ]
  },
  {
   "cell_type": "markdown",
   "metadata": {},
   "source": [
    "### Let's examine duplicates before checking for overlap (permeation- proxy)\n",
    "\n",
    "There are many duplicated values for same compounds(e.coli - 10k, s.aureus - 6k), i will average over them to lower probability of error"
   ]
  },
  {
   "cell_type": "code",
   "execution_count": 30,
   "metadata": {},
   "outputs": [],
   "source": [
    "#e_coli_pmic =  pd.DataFrame(e_coli_pmic.groupby(e_coli_pmic.Smiles).mean()).reset_index()\n"
   ]
  },
  {
   "cell_type": "code",
   "execution_count": 31,
   "metadata": {},
   "outputs": [
    {
     "name": "stdout",
     "output_type": "stream",
     "text": [
      "Before combination, final curated numbers: E. coli: 24102, S. aureus: 35802\n"
     ]
    }
   ],
   "source": [
    "print('Before combination, final curated numbers: E. coli: {}, S. aureus: {}'.format(len(e_coli_pmic), len(s_aureus_pmic)))"
   ]
  },
  {
   "cell_type": "markdown",
   "metadata": {},
   "source": [
    "## Combination"
   ]
  },
  {
   "cell_type": "code",
   "execution_count": 32,
   "metadata": {},
   "outputs": [],
   "source": [
    "# e_coli_pmic = e_coli_pmic.drop_duplicates(subset=['Smiles'], keep = 'first')\n",
    "# s_aureus_pmic = s_aureus_pmic.drop_duplicates(subset=['Smiles'], keep = 'first')"
   ]
  },
  {
   "cell_type": "code",
   "execution_count": 33,
   "metadata": {},
   "outputs": [],
   "source": [
    "merge = e_coli_pmic[['Smiles', 'pMIC']].merge(s_aureus_pmic[['Smiles', 'pMIC']], how='inner', on = 'Smiles', suffixes=['_e_coli','_s_aureus'])"
   ]
  },
  {
   "cell_type": "code",
   "execution_count": 34,
   "metadata": {},
   "outputs": [],
   "source": [
    "merge= merge[merge['pMIC_s_aureus']>=5].dropna()"
   ]
  },
  {
   "cell_type": "code",
   "execution_count": 35,
   "metadata": {
    "collapsed": true,
    "jupyter": {
     "outputs_hidden": true
    }
   },
   "outputs": [
    {
     "data": {
      "text/html": [
       "<div>\n",
       "<style scoped>\n",
       "    .dataframe tbody tr th:only-of-type {\n",
       "        vertical-align: middle;\n",
       "    }\n",
       "\n",
       "    .dataframe tbody tr th {\n",
       "        vertical-align: top;\n",
       "    }\n",
       "\n",
       "    .dataframe thead th {\n",
       "        text-align: right;\n",
       "    }\n",
       "</style>\n",
       "<table border=\"1\" class=\"dataframe\">\n",
       "  <thead>\n",
       "    <tr style=\"text-align: right;\">\n",
       "      <th></th>\n",
       "      <th>Smiles</th>\n",
       "      <th>pMIC_e_coli</th>\n",
       "      <th>pMIC_s_aureus</th>\n",
       "    </tr>\n",
       "  </thead>\n",
       "  <tbody>\n",
       "    <tr>\n",
       "      <th>0</th>\n",
       "      <td>Br.Br.CCCCC(CC)CN=c1ccn(CCCCCCCCCCCCn2ccc(=NCC...</td>\n",
       "      <td>5.870000</td>\n",
       "      <td>6.170</td>\n",
       "    </tr>\n",
       "    <tr>\n",
       "      <th>1</th>\n",
       "      <td>Br.Br.CCCCC(CC)CN=c1ccn(CCCCCCCCCCn2ccc(=NCC(C...</td>\n",
       "      <td>5.960000</td>\n",
       "      <td>6.550</td>\n",
       "    </tr>\n",
       "    <tr>\n",
       "      <th>2</th>\n",
       "      <td>Br.Br.CCCCC(CC)CN=c1ccn(CCCCCCCCCn2ccc(=NCC(CC...</td>\n",
       "      <td>5.840000</td>\n",
       "      <td>6.370</td>\n",
       "    </tr>\n",
       "    <tr>\n",
       "      <th>3</th>\n",
       "      <td>Br.Br.CCCCC(CC)CN=c1ccn(CCCCCCCCn2ccc(=NCC(CC)...</td>\n",
       "      <td>5.536667</td>\n",
       "      <td>6.360</td>\n",
       "    </tr>\n",
       "    <tr>\n",
       "      <th>4</th>\n",
       "      <td>Br.Br.CCCCC(CC)CN=c1ccn(CCCCCCCn2ccc(=NCC(CC)C...</td>\n",
       "      <td>5.240000</td>\n",
       "      <td>6.130</td>\n",
       "    </tr>\n",
       "    <tr>\n",
       "      <th>...</th>\n",
       "      <td>...</td>\n",
       "      <td>...</td>\n",
       "      <td>...</td>\n",
       "    </tr>\n",
       "    <tr>\n",
       "      <th>18469</th>\n",
       "      <td>c1ccc2c(c1)cc1c3ccccc3nc(-c3c[nH]c4ccccc34)n21</td>\n",
       "      <td>5.130000</td>\n",
       "      <td>5.130</td>\n",
       "    </tr>\n",
       "    <tr>\n",
       "      <th>18471</th>\n",
       "      <td>c1ccc2c(c1)cc1c3ccccc3nc(-c3csc4ccccc34)n21</td>\n",
       "      <td>5.195000</td>\n",
       "      <td>5.195</td>\n",
       "    </tr>\n",
       "    <tr>\n",
       "      <th>18472</th>\n",
       "      <td>c1ccc2c(c1)nc(-c1ccc(-c3nc4ccccc4c4nc5ccccc5n3...</td>\n",
       "      <td>5.320000</td>\n",
       "      <td>5.320</td>\n",
       "    </tr>\n",
       "    <tr>\n",
       "      <th>18475</th>\n",
       "      <td>c1ccc2cc(-c3nc4ccccc4c4cc5ccccc5n34)c(-c3nc4cc...</td>\n",
       "      <td>4.200000</td>\n",
       "      <td>5.050</td>\n",
       "    </tr>\n",
       "    <tr>\n",
       "      <th>18483</th>\n",
       "      <td>c1coc(-c2nnc3n2ccc2nnc(-c4ccco4)n23)c1</td>\n",
       "      <td>3.660000</td>\n",
       "      <td>5.770</td>\n",
       "    </tr>\n",
       "  </tbody>\n",
       "</table>\n",
       "<p>7964 rows × 3 columns</p>\n",
       "</div>"
      ],
      "text/plain": [
       "                                                  Smiles  pMIC_e_coli  \\\n",
       "0      Br.Br.CCCCC(CC)CN=c1ccn(CCCCCCCCCCCCn2ccc(=NCC...     5.870000   \n",
       "1      Br.Br.CCCCC(CC)CN=c1ccn(CCCCCCCCCCn2ccc(=NCC(C...     5.960000   \n",
       "2      Br.Br.CCCCC(CC)CN=c1ccn(CCCCCCCCCn2ccc(=NCC(CC...     5.840000   \n",
       "3      Br.Br.CCCCC(CC)CN=c1ccn(CCCCCCCCn2ccc(=NCC(CC)...     5.536667   \n",
       "4      Br.Br.CCCCC(CC)CN=c1ccn(CCCCCCCn2ccc(=NCC(CC)C...     5.240000   \n",
       "...                                                  ...          ...   \n",
       "18469     c1ccc2c(c1)cc1c3ccccc3nc(-c3c[nH]c4ccccc34)n21     5.130000   \n",
       "18471        c1ccc2c(c1)cc1c3ccccc3nc(-c3csc4ccccc34)n21     5.195000   \n",
       "18472  c1ccc2c(c1)nc(-c1ccc(-c3nc4ccccc4c4nc5ccccc5n3...     5.320000   \n",
       "18475  c1ccc2cc(-c3nc4ccccc4c4cc5ccccc5n34)c(-c3nc4cc...     4.200000   \n",
       "18483             c1coc(-c2nnc3n2ccc2nnc(-c4ccco4)n23)c1     3.660000   \n",
       "\n",
       "       pMIC_s_aureus  \n",
       "0              6.170  \n",
       "1              6.550  \n",
       "2              6.370  \n",
       "3              6.360  \n",
       "4              6.130  \n",
       "...              ...  \n",
       "18469          5.130  \n",
       "18471          5.195  \n",
       "18472          5.320  \n",
       "18475          5.050  \n",
       "18483          5.770  \n",
       "\n",
       "[7964 rows x 3 columns]"
      ]
     },
     "execution_count": 35,
     "metadata": {},
     "output_type": "execute_result"
    }
   ],
   "source": [
    "merge"
   ]
  },
  {
   "cell_type": "code",
   "execution_count": 36,
   "metadata": {},
   "outputs": [
    {
     "name": "stdout",
     "output_type": "stream",
     "text": [
      "permeating compounds: 5009\n",
      "non-permeating compounds: 2955\n"
     ]
    }
   ],
   "source": [
    "print('permeating compounds:', len(merge[(merge['pMIC_s_aureus']>=5) & (merge['pMIC_e_coli']>=5)]))\n",
    "\n",
    "print('non-permeating compounds:', len(merge[(merge['pMIC_s_aureus']>=5) & (merge['pMIC_e_coli']<5)]))"
   ]
  },
  {
   "cell_type": "markdown",
   "metadata": {},
   "source": [
    "### Write compounds"
   ]
  },
  {
   "cell_type": "code",
   "execution_count": 46,
   "metadata": {
    "scrolled": true
   },
   "outputs": [],
   "source": [
    "active = merge[(merge['pMIC_s_aureus']>=5) & (merge['pMIC_e_coli']>=5)].reset_index(drop=True)\n",
    "\n",
    "inactive = merge[(merge['pMIC_s_aureus']>=5) & (merge['pMIC_e_coli']<5)].reset_index(drop=True)"
   ]
  },
  {
   "cell_type": "code",
   "execution_count": 47,
   "metadata": {},
   "outputs": [],
   "source": [
    "active['Class']=[1 for x in active.Smiles]"
   ]
  },
  {
   "cell_type": "code",
   "execution_count": 48,
   "metadata": {},
   "outputs": [],
   "source": [
    "active = active.drop(columns=['pMIC_s_aureus'])"
   ]
  },
  {
   "cell_type": "code",
   "execution_count": 49,
   "metadata": {},
   "outputs": [],
   "source": [
    "inactive['Class']=[0 for x in inactive.Smiles]\n",
    "inactive = inactive.drop(columns=['pMIC_s_aureus'])"
   ]
  },
  {
   "cell_type": "code",
   "execution_count": 50,
   "metadata": {},
   "outputs": [],
   "source": [
    "chembl_complete = active.append(inactive)"
   ]
  },
  {
   "cell_type": "code",
   "execution_count": 51,
   "metadata": {},
   "outputs": [],
   "source": [
    "chembl_complete.to_csv('../all_data/chembl_curated/chembl_e_coli_saureus.csv')"
   ]
  },
  {
   "cell_type": "code",
   "execution_count": 52,
   "metadata": {},
   "outputs": [],
   "source": [
    "chembl_complete.drop(columns=['Class']).to_csv('chembl_permeation_all.csv', index=False)"
   ]
  },
  {
   "cell_type": "markdown",
   "metadata": {},
   "source": [
    "## END"
   ]
  },
  {
   "cell_type": "markdown",
   "metadata": {},
   "source": [
    "## Comapre compounds from this to the ones you're using now!"
   ]
  },
  {
   "cell_type": "code",
   "execution_count": null,
   "metadata": {},
   "outputs": [],
   "source": [
    "coadd_spark = pd.read_csv('../all_data/coadd_spark/co_add_spark_class_all.csv')"
   ]
  },
  {
   "cell_type": "code",
   "execution_count": null,
   "metadata": {
    "scrolled": true
   },
   "outputs": [],
   "source": [
    "coadd_spark['mols'] = [Chem.MolFromSmiles(x) for x in coadd_spark.SMILES]"
   ]
  },
  {
   "cell_type": "code",
   "execution_count": null,
   "metadata": {},
   "outputs": [],
   "source": [
    "coadd_spark['fps'] = [Chem.AllChem.GetMorganFingerprintAsBitVect(x,3,2048) for x in coadd_spark.mols.values]"
   ]
  },
  {
   "cell_type": "code",
   "execution_count": null,
   "metadata": {},
   "outputs": [],
   "source": [
    "e_coli_master_mols = [Chem.MolFromSmiles(x) for x in e_coli_master.Smiles.dropna()]\n",
    "e_coli_master_fps = [Chem.AllChem.GetMorganFingerprintAsBitVect(x,3,2048) for x in e_coli_master_mols]"
   ]
  },
  {
   "cell_type": "code",
   "execution_count": null,
   "metadata": {},
   "outputs": [],
   "source": [
    "s_master_mols = [Chem.MolFromSmiles(x) for x in s_aureus_master.Smiles.dropna()]\n",
    "s_master_fps = [Chem.AllChem.GetMorganFingerprintAsBitVect(x,3,2048) for x in s_master_mols]"
   ]
  },
  {
   "cell_type": "code",
   "execution_count": null,
   "metadata": {},
   "outputs": [],
   "source": [
    "# fps similarity\n",
    "\n",
    "from rdkit import DataStructs\n",
    "\n",
    "def similarity_index(a, b, cutoff): # takes fingerprints and compares them returning list of indexes\n",
    "    index_similar_comps=[]\n",
    "    for num in range(0,len(a)):\n",
    "        for num2 in range(0,len(b)):\n",
    "            if DataStructs.FingerprintSimilarity(a[num], b[num2]) >= cutoff :\n",
    "                index_similar_comps.append(num2)\n",
    "                break\n",
    "    return index_similar_comps"
   ]
  },
  {
   "cell_type": "code",
   "execution_count": null,
   "metadata": {},
   "outputs": [],
   "source": [
    "sim_2 = similarity_index(coadd_spark.fps.values, s_master_fps, 0.95 )"
   ]
  },
  {
   "cell_type": "code",
   "execution_count": null,
   "metadata": {},
   "outputs": [],
   "source": [
    "sim_2"
   ]
  },
  {
   "cell_type": "code",
   "execution_count": null,
   "metadata": {},
   "outputs": [],
   "source": [
    "e_coli_fps = pd.DataFrame(e_coli_master_fps)"
   ]
  },
  {
   "cell_type": "code",
   "execution_count": null,
   "metadata": {},
   "outputs": [],
   "source": [
    "sim = similarity_index(coadd_spark.fps.values, e_coli_fps[0].values, 0.95 )"
   ]
  },
  {
   "cell_type": "code",
   "execution_count": null,
   "metadata": {},
   "outputs": [],
   "source": [
    "sim"
   ]
  },
  {
   "cell_type": "code",
   "execution_count": null,
   "metadata": {},
   "outputs": [],
   "source": [
    "list(set(sim) & set(sim_2))"
   ]
  },
  {
   "cell_type": "code",
   "execution_count": null,
   "metadata": {},
   "outputs": [],
   "source": [
    "same_smiles=[]\n",
    "for smile in e_coli_master['Smiles']:\n",
    "    if len(coadd_spark[coadd_spark['SMILES']==smile]) != 0 :\n",
    "        same_smiles.append(smile)"
   ]
  },
  {
   "cell_type": "code",
   "execution_count": null,
   "metadata": {
    "scrolled": true
   },
   "outputs": [],
   "source": [
    "len(same_smiles)"
   ]
  },
  {
   "cell_type": "code",
   "execution_count": null,
   "metadata": {},
   "outputs": [],
   "source": [
    "merge['mols'] = [Chem.MolFromSmiles(x) for x in merge.Smiles]"
   ]
  },
  {
   "cell_type": "code",
   "execution_count": null,
   "metadata": {},
   "outputs": [],
   "source": [
    "merge[['mols']].merge(coadd_spark['mols'])"
   ]
  },
  {
   "cell_type": "markdown",
   "metadata": {},
   "source": [
    "## Word Frequency"
   ]
  },
  {
   "cell_type": "code",
   "execution_count": null,
   "metadata": {},
   "outputs": [],
   "source": [
    "# sort values\n",
    "\n",
    "e_coli_valid_assay=[]\n",
    "e_coli_invalid_assay=[]\n",
    "count=0\n",
    "\n",
    "\n",
    "for descriptor in without_NCTC_12241['Assay Description'].unique()[:100]:\n",
    "    print('Counting down: ', len(without_NCTC_12241['Assay Description'].unique()) - count)\n",
    "    print('Descriptor:', descriptor)\n",
    "    print('len: ', len(without_NCTC_12241[without_NCTC_12241['Assay Description']==descriptor]))\n",
    "    join = input('yea or nea\\n')\n",
    "    if join  in ['yes', 'Yes', 'y', 'Y', 'yea']:\n",
    "        e_coli_valid_assay.append(descriptor)\n",
    "    elif join  in ['no', 'No', 'n', 'N', 'nea', '']:\n",
    "        e_coli_invalid_assay.append(descriptor)\n",
    "    count+=1"
   ]
  },
  {
   "cell_type": "code",
   "execution_count": null,
   "metadata": {},
   "outputs": [],
   "source": [
    "# e_coli_master.drop(e_coli_master[e_coli_master['Assay Description'].isin(susceptible)].index)\n",
    "# e_coli_master[e_coli_master['Assay Description'].isin(susceptible) == False]"
   ]
  },
  {
   "cell_type": "code",
   "execution_count": null,
   "metadata": {},
   "outputs": [],
   "source": [
    "def freq(string):\n",
    "    string = string.lower()\n",
    "    # break the string into list of words\n",
    "    str_list = string.split()\n",
    "  \n",
    "    # gives set of unique words\n",
    "    unique_words = set(str_list)\n",
    "      \n",
    "    for words in unique_words :\n",
    "        print('Frequency of ', words , 'is :', str_list.count(words))"
   ]
  },
  {
   "cell_type": "code",
   "execution_count": null,
   "metadata": {},
   "outputs": [],
   "source": [
    "descriptors = e_coli_master['Assay Description'].unique()"
   ]
  },
  {
   "cell_type": "code",
   "execution_count": null,
   "metadata": {},
   "outputs": [],
   "source": [
    "descriptors_list = list(descriptors)"
   ]
  },
  {
   "cell_type": "code",
   "execution_count": null,
   "metadata": {},
   "outputs": [],
   "source": [
    "one_big_descriptor = \" \".join(descriptors_list)"
   ]
  },
  {
   "cell_type": "code",
   "execution_count": null,
   "metadata": {},
   "outputs": [],
   "source": [
    "l=[]\n",
    "for word in set(one_big_descriptor.lower().split()):\n",
    "    l.append((word, one_big_descriptor.lower().split().count(word)))\n",
    "l.sort(key=lambda x:x[1],reverse=True )\n",
    "l"
   ]
  },
  {
   "cell_type": "code",
   "execution_count": 23,
   "metadata": {
    "scrolled": true
   },
   "outputs": [
    {
     "data": {
      "text/plain": [
       "<matplotlib.axes._subplots.AxesSubplot at 0x2b47c734b990>"
      ]
     },
     "execution_count": 23,
     "metadata": {},
     "output_type": "execute_result"
    },
    {
     "data": {
      "image/png": "[encoded data removed]",
      "text/plain": [
       "<Figure size 432x288 with 1 Axes>"
      ]
     },
     "metadata": {
      "needs_background": "light"
     },
     "output_type": "display_data"
    }
   ],
   "source": [
    "import seaborn as sns\n",
    "\n",
    "sns.stripplot(y = master[master['Class']==1]['Class'], x = master[master['Class']==0]['pMIC_e_coli_pmic'])"
   ]
  },
  {
   "cell_type": "code",
   "execution_count": 21,
   "metadata": {
    "scrolled": true
   },
   "outputs": [],
   "source": [
    "master = pd.read_csv('../all_data/chembl_curated/chembl_e_coli_saureus.csv')"
   ]
  }
 ],
 "metadata": {
  "kernelspec": {
   "display_name": "Python 3 (ipykernel)",
   "language": "python",
   "name": "python3"
  },
  "language_info": {
   "codemirror_mode": {
    "name": "ipython",
    "version": 3
   },
   "file_extension": ".py",
   "mimetype": "text/x-python",
   "name": "python",
   "nbconvert_exporter": "python",
   "pygments_lexer": "ipython3",
   "version": "3.8.10"
  }
 },
 "nbformat": 4,
 "nbformat_minor": 4
}
